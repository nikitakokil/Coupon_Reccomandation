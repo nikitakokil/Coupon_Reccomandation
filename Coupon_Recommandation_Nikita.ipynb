{
 "cells": [
  {
   "cell_type": "code",
   "execution_count": 1,
   "id": "f7eb5610",
   "metadata": {},
   "outputs": [],
   "source": [
    "import numpy as np\n",
    "import pandas as pd\n",
    "import seaborn as sns_raw\n",
    "import matplotlib.pyplot as plt\n",
    "\n",
    "import warnings\n",
    "warnings.filterwarnings('ignore')\n",
    "\n",
    "from sklearn.preprocessing import MinMaxScaler\n",
    "from sklearn.impute import SimpleImputer\n",
    "from sklearn import metrics\n",
    "from sklearn.metrics import roc_auc_score, roc_curve, accuracy_score, confusion_matrix, classification_report, plot_confusion_matrix\n",
    "from sklearn.model_selection import cross_val_score, train_test_split, StratifiedKFold, RandomizedSearchCV, GridSearchCV, cross_val_predict\n",
    "from sklearn.datasets import make_classification\n",
    "from sklearn.ensemble import RandomForestClassifier\n",
    "from sklearn.linear_model import LogisticRegression\n",
    "from sklearn.svm import SVC\n",
    "from sklearn.utils import shuffle"
   ]
  },
  {
   "cell_type": "code",
   "execution_count": 3,
   "id": "c1ff4d69",
   "metadata": {},
   "outputs": [
    {
     "data": {
      "text/html": [
       "<div>\n",
       "<style scoped>\n",
       "    .dataframe tbody tr th:only-of-type {\n",
       "        vertical-align: middle;\n",
       "    }\n",
       "\n",
       "    .dataframe tbody tr th {\n",
       "        vertical-align: top;\n",
       "    }\n",
       "\n",
       "    .dataframe thead th {\n",
       "        text-align: right;\n",
       "    }\n",
       "</style>\n",
       "<table border=\"1\" class=\"dataframe\">\n",
       "  <thead>\n",
       "    <tr style=\"text-align: right;\">\n",
       "      <th></th>\n",
       "      <th>destination</th>\n",
       "      <th>passanger</th>\n",
       "      <th>weather</th>\n",
       "      <th>temperature</th>\n",
       "      <th>coupon</th>\n",
       "      <th>expiration</th>\n",
       "      <th>gender</th>\n",
       "      <th>age</th>\n",
       "      <th>maritalStatus</th>\n",
       "      <th>has_children</th>\n",
       "      <th>...</th>\n",
       "      <th>CoffeeHouse</th>\n",
       "      <th>CarryAway</th>\n",
       "      <th>RestaurantLessThan20</th>\n",
       "      <th>Restaurant20To50</th>\n",
       "      <th>toCoupon_GEQ5min</th>\n",
       "      <th>toCoupon_GEQ15min</th>\n",
       "      <th>toCoupon_GEQ25min</th>\n",
       "      <th>direction_same</th>\n",
       "      <th>direction_opp</th>\n",
       "      <th>Accept(Y/N?)</th>\n",
       "    </tr>\n",
       "  </thead>\n",
       "  <tbody>\n",
       "    <tr>\n",
       "      <th>0</th>\n",
       "      <td>No Urgent Place</td>\n",
       "      <td>Alone</td>\n",
       "      <td>Sunny</td>\n",
       "      <td>55</td>\n",
       "      <td>Restaurant(&lt;20)</td>\n",
       "      <td>1d</td>\n",
       "      <td>Female</td>\n",
       "      <td>21</td>\n",
       "      <td>Unmarried partner</td>\n",
       "      <td>1</td>\n",
       "      <td>...</td>\n",
       "      <td>never</td>\n",
       "      <td>NaN</td>\n",
       "      <td>4~8</td>\n",
       "      <td>1~3</td>\n",
       "      <td>1</td>\n",
       "      <td>0</td>\n",
       "      <td>0</td>\n",
       "      <td>0</td>\n",
       "      <td>1</td>\n",
       "      <td>1</td>\n",
       "    </tr>\n",
       "    <tr>\n",
       "      <th>1</th>\n",
       "      <td>No Urgent Place</td>\n",
       "      <td>Friend(s)</td>\n",
       "      <td>Sunny</td>\n",
       "      <td>80</td>\n",
       "      <td>Coffee House</td>\n",
       "      <td>2h</td>\n",
       "      <td>Female</td>\n",
       "      <td>21</td>\n",
       "      <td>Unmarried partner</td>\n",
       "      <td>1</td>\n",
       "      <td>...</td>\n",
       "      <td>never</td>\n",
       "      <td>NaN</td>\n",
       "      <td>4~8</td>\n",
       "      <td>1~3</td>\n",
       "      <td>1</td>\n",
       "      <td>0</td>\n",
       "      <td>0</td>\n",
       "      <td>0</td>\n",
       "      <td>1</td>\n",
       "      <td>0</td>\n",
       "    </tr>\n",
       "    <tr>\n",
       "      <th>2</th>\n",
       "      <td>No Urgent Place</td>\n",
       "      <td>Friend(s)</td>\n",
       "      <td>Sunny</td>\n",
       "      <td>80</td>\n",
       "      <td>Carry out &amp; Take away</td>\n",
       "      <td>2h</td>\n",
       "      <td>Female</td>\n",
       "      <td>21</td>\n",
       "      <td>Unmarried partner</td>\n",
       "      <td>1</td>\n",
       "      <td>...</td>\n",
       "      <td>never</td>\n",
       "      <td>NaN</td>\n",
       "      <td>4~8</td>\n",
       "      <td>1~3</td>\n",
       "      <td>1</td>\n",
       "      <td>1</td>\n",
       "      <td>0</td>\n",
       "      <td>0</td>\n",
       "      <td>1</td>\n",
       "      <td>1</td>\n",
       "    </tr>\n",
       "    <tr>\n",
       "      <th>3</th>\n",
       "      <td>No Urgent Place</td>\n",
       "      <td>Friend(s)</td>\n",
       "      <td>Sunny</td>\n",
       "      <td>80</td>\n",
       "      <td>Coffee House</td>\n",
       "      <td>2h</td>\n",
       "      <td>Female</td>\n",
       "      <td>21</td>\n",
       "      <td>Unmarried partner</td>\n",
       "      <td>1</td>\n",
       "      <td>...</td>\n",
       "      <td>never</td>\n",
       "      <td>NaN</td>\n",
       "      <td>4~8</td>\n",
       "      <td>1~3</td>\n",
       "      <td>1</td>\n",
       "      <td>1</td>\n",
       "      <td>0</td>\n",
       "      <td>0</td>\n",
       "      <td>1</td>\n",
       "      <td>0</td>\n",
       "    </tr>\n",
       "    <tr>\n",
       "      <th>4</th>\n",
       "      <td>No Urgent Place</td>\n",
       "      <td>Friend(s)</td>\n",
       "      <td>Sunny</td>\n",
       "      <td>80</td>\n",
       "      <td>Coffee House</td>\n",
       "      <td>1d</td>\n",
       "      <td>Female</td>\n",
       "      <td>21</td>\n",
       "      <td>Unmarried partner</td>\n",
       "      <td>1</td>\n",
       "      <td>...</td>\n",
       "      <td>never</td>\n",
       "      <td>NaN</td>\n",
       "      <td>4~8</td>\n",
       "      <td>1~3</td>\n",
       "      <td>1</td>\n",
       "      <td>1</td>\n",
       "      <td>0</td>\n",
       "      <td>0</td>\n",
       "      <td>1</td>\n",
       "      <td>0</td>\n",
       "    </tr>\n",
       "  </tbody>\n",
       "</table>\n",
       "<p>5 rows × 25 columns</p>\n",
       "</div>"
      ],
      "text/plain": [
       "       destination  passanger weather  temperature                 coupon  \\\n",
       "0  No Urgent Place      Alone   Sunny           55        Restaurant(<20)   \n",
       "1  No Urgent Place  Friend(s)   Sunny           80           Coffee House   \n",
       "2  No Urgent Place  Friend(s)   Sunny           80  Carry out & Take away   \n",
       "3  No Urgent Place  Friend(s)   Sunny           80           Coffee House   \n",
       "4  No Urgent Place  Friend(s)   Sunny           80           Coffee House   \n",
       "\n",
       "  expiration  gender age      maritalStatus  has_children  ... CoffeeHouse  \\\n",
       "0         1d  Female  21  Unmarried partner             1  ...       never   \n",
       "1         2h  Female  21  Unmarried partner             1  ...       never   \n",
       "2         2h  Female  21  Unmarried partner             1  ...       never   \n",
       "3         2h  Female  21  Unmarried partner             1  ...       never   \n",
       "4         1d  Female  21  Unmarried partner             1  ...       never   \n",
       "\n",
       "  CarryAway RestaurantLessThan20 Restaurant20To50 toCoupon_GEQ5min  \\\n",
       "0       NaN                  4~8              1~3                1   \n",
       "1       NaN                  4~8              1~3                1   \n",
       "2       NaN                  4~8              1~3                1   \n",
       "3       NaN                  4~8              1~3                1   \n",
       "4       NaN                  4~8              1~3                1   \n",
       "\n",
       "  toCoupon_GEQ15min toCoupon_GEQ25min direction_same direction_opp  \\\n",
       "0                 0                 0              0             1   \n",
       "1                 0                 0              0             1   \n",
       "2                 1                 0              0             1   \n",
       "3                 1                 0              0             1   \n",
       "4                 1                 0              0             1   \n",
       "\n",
       "   Accept(Y/N?)  \n",
       "0             1  \n",
       "1             0  \n",
       "2             1  \n",
       "3             0  \n",
       "4             0  \n",
       "\n",
       "[5 rows x 25 columns]"
      ]
     },
     "execution_count": 3,
     "metadata": {},
     "output_type": "execute_result"
    }
   ],
   "source": [
    "# Reading the in-vehicle dataset\n",
    "df_raw = pd.read_csv(\"data.csv\")\n",
    "df_raw.head()"
   ]
  },
  {
   "cell_type": "code",
   "execution_count": 4,
   "id": "b0b29476",
   "metadata": {},
   "outputs": [
    {
     "name": "stdout",
     "output_type": "stream",
     "text": [
      "<class 'pandas.core.frame.DataFrame'>\n",
      "RangeIndex: 12684 entries, 0 to 12683\n",
      "Data columns (total 25 columns):\n",
      " #   Column                Non-Null Count  Dtype \n",
      "---  ------                --------------  ----- \n",
      " 0   destination           12684 non-null  object\n",
      " 1   passanger             12684 non-null  object\n",
      " 2   weather               12684 non-null  object\n",
      " 3   temperature           12684 non-null  int64 \n",
      " 4   coupon                12684 non-null  object\n",
      " 5   expiration            12684 non-null  object\n",
      " 6   gender                12684 non-null  object\n",
      " 7   age                   12684 non-null  object\n",
      " 8   maritalStatus         12684 non-null  object\n",
      " 9   has_children          12684 non-null  int64 \n",
      " 10  education             12684 non-null  object\n",
      " 11  occupation            12684 non-null  object\n",
      " 12  income                12684 non-null  object\n",
      " 13  car                   108 non-null    object\n",
      " 14  Bar                   12577 non-null  object\n",
      " 15  CoffeeHouse           12467 non-null  object\n",
      " 16  CarryAway             12533 non-null  object\n",
      " 17  RestaurantLessThan20  12554 non-null  object\n",
      " 18  Restaurant20To50      12495 non-null  object\n",
      " 19  toCoupon_GEQ5min      12684 non-null  int64 \n",
      " 20  toCoupon_GEQ15min     12684 non-null  int64 \n",
      " 21  toCoupon_GEQ25min     12684 non-null  int64 \n",
      " 22  direction_same        12684 non-null  int64 \n",
      " 23  direction_opp         12684 non-null  int64 \n",
      " 24  Accept(Y/N?)          12684 non-null  int64 \n",
      "dtypes: int64(8), object(17)\n",
      "memory usage: 2.4+ MB\n"
     ]
    }
   ],
   "source": [
    "df_raw.info()"
   ]
  },
  {
   "cell_type": "code",
   "execution_count": 5,
   "id": "f371def3",
   "metadata": {},
   "outputs": [
    {
     "data": {
      "text/plain": [
       "destination             object\n",
       "passanger               object\n",
       "weather                 object\n",
       "temperature              int64\n",
       "coupon                  object\n",
       "expiration              object\n",
       "gender                  object\n",
       "age                     object\n",
       "maritalStatus           object\n",
       "has_children             int64\n",
       "education               object\n",
       "occupation              object\n",
       "income                  object\n",
       "car                     object\n",
       "Bar                     object\n",
       "CoffeeHouse             object\n",
       "CarryAway               object\n",
       "RestaurantLessThan20    object\n",
       "Restaurant20To50        object\n",
       "toCoupon_GEQ5min         int64\n",
       "toCoupon_GEQ15min        int64\n",
       "toCoupon_GEQ25min        int64\n",
       "direction_same           int64\n",
       "direction_opp            int64\n",
       "Accept(Y/N?)             int64\n",
       "dtype: object"
      ]
     },
     "execution_count": 5,
     "metadata": {},
     "output_type": "execute_result"
    }
   ],
   "source": [
    "df_raw.dtypes"
   ]
  },
  {
   "cell_type": "code",
   "execution_count": 6,
   "id": "5ce6d96b",
   "metadata": {},
   "outputs": [
    {
     "data": {
      "text/plain": [
       "1    7210\n",
       "0    5474\n",
       "Name: Accept(Y/N?), dtype: int64"
      ]
     },
     "execution_count": 6,
     "metadata": {},
     "output_type": "execute_result"
    }
   ],
   "source": [
    "# If target variable is evenly distributed between 0 and 1, then it is a balanced dataset.\n",
    "df_raw['Accept(Y/N?)'].value_counts()"
   ]
  },
  {
   "cell_type": "code",
   "execution_count": 7,
   "id": "9a075a5c",
   "metadata": {
    "scrolled": true
   },
   "outputs": [
    {
     "data": {
      "image/png": "[encoded data removed]",
      "text/plain": [
       "<Figure size 432x288 with 1 Axes>"
      ]
     },
     "metadata": {
      "needs_background": "light"
     },
     "output_type": "display_data"
    }
   ],
   "source": [
    "#Analyzing the is target variable balance or not?\n",
    "df_raw['Accept(Y/N?)'].value_counts().plot(kind='bar')\n",
    "\n",
    "plt.title('Target feature balance')\n",
    "\n",
    "plt.xlabel('Target feature values')\n",
    "plt.ylabel('Count of values available per label')\n",
    "\n",
    "plt.show()"
   ]
  },
  {
   "cell_type": "code",
   "execution_count": 8,
   "id": "0868b658",
   "metadata": {},
   "outputs": [],
   "source": [
    "# Data Preprocessing\n",
    "\n",
    "# Preprocessing step: Dropping 'Car' column since 99% of values present are null.\n",
    "df_raw = df_raw.drop(['car'], axis = 1)"
   ]
  },
  {
   "cell_type": "code",
   "execution_count": 9,
   "id": "ebe865d5",
   "metadata": {},
   "outputs": [],
   "source": [
    "# Preprocessing step: Dropping 'toCoupon_GEQ5min' column since it containing all redundent values as 1. \n",
    "df_raw = df_raw.drop('toCoupon_GEQ5min', axis=1)"
   ]
  },
  {
   "cell_type": "code",
   "execution_count": 10,
   "id": "ee321956",
   "metadata": {},
   "outputs": [
    {
     "data": {
      "image/png": "[encoded data removed]",
      "text/plain": [
       "<Figure size 1800x1440 with 2 Axes>"
      ]
     },
     "metadata": {
      "needs_background": "light"
     },
     "output_type": "display_data"
    }
   ],
   "source": [
    "#Checking features correlation\n",
    "\n",
    "# Checking the correlation between features.\n",
    "mask_raw = np.zeros_like(df_raw.corr(), dtype=np.bool)\n",
    "\n",
    "fig, axis = plt.subplots(figsize=(25,20))\n",
    "\n",
    "heatmap_raw = sns_raw.heatmap(df_raw.corr(), \n",
    "                      mask = mask_raw,\n",
    "                      cmap = 'coolwarm',\n",
    "                      square = True,\n",
    "                      linewidths = .6,\n",
    "                      cbar_kws = {'shrink': .6, \n",
    "                                'ticks' : [-1, -.75,-.5,-.25, 0, .25, 0.5, 0.75, 1]},\n",
    "                      vmax = 1,\n",
    "                      annot = True,\n",
    "                      annot_kws = {\"size\": 12})\n",
    "\n",
    "axis.set_xticklabels(df_raw.corr().columns)\n",
    "axis.set_yticklabels(df_raw.corr().columns, rotation = 0)\n",
    "\n",
    "\n",
    "sns_raw.set_style({'xtick.bottom': True}, {'ytick.left': True})\n",
    "plt.tight_layout()"
   ]
  },
  {
   "cell_type": "code",
   "execution_count": 11,
   "id": "fafb2f6f",
   "metadata": {},
   "outputs": [
    {
     "data": {
      "text/plain": [
       "never    5197\n",
       "less1    3482\n",
       "1~3      2473\n",
       "4~8      1076\n",
       "gt8       349\n",
       "Name: Bar, dtype: int64"
      ]
     },
     "execution_count": 11,
     "metadata": {},
     "output_type": "execute_result"
    }
   ],
   "source": [
    "#Null or Missing values imputation step\n",
    "\n",
    "df_raw['Bar'].value_counts()\n"
   ]
  },
  {
   "cell_type": "code",
   "execution_count": 12,
   "id": "f877ca3c",
   "metadata": {},
   "outputs": [],
   "source": [
    "# Imputing missing value with maximum occuring value 'never'\n",
    "df_raw['Bar'].replace(np.NaN, 'never', inplace = True)"
   ]
  },
  {
   "cell_type": "code",
   "execution_count": 13,
   "id": "67b3bc9b",
   "metadata": {},
   "outputs": [
    {
     "data": {
      "text/plain": [
       "less1    3385\n",
       "1~3      3225\n",
       "never    2962\n",
       "4~8      1784\n",
       "gt8      1111\n",
       "Name: CoffeeHouse, dtype: int64"
      ]
     },
     "execution_count": 13,
     "metadata": {},
     "output_type": "execute_result"
    }
   ],
   "source": [
    "df_raw['CoffeeHouse'].value_counts() "
   ]
  },
  {
   "cell_type": "code",
   "execution_count": 14,
   "id": "33b1bfd4",
   "metadata": {},
   "outputs": [],
   "source": [
    "# Imputing missing value with maximum occuring value 'less1'\n",
    "df_raw['CoffeeHouse'].replace(np.NaN, 'less1', inplace = True)"
   ]
  },
  {
   "cell_type": "code",
   "execution_count": 15,
   "id": "ad29ae5b",
   "metadata": {},
   "outputs": [
    {
     "data": {
      "text/plain": [
       "1~3      4672\n",
       "4~8      4258\n",
       "less1    1856\n",
       "gt8      1594\n",
       "never     153\n",
       "Name: CarryAway, dtype: int64"
      ]
     },
     "execution_count": 15,
     "metadata": {},
     "output_type": "execute_result"
    }
   ],
   "source": [
    "df_raw['CarryAway'].value_counts()"
   ]
  },
  {
   "cell_type": "code",
   "execution_count": 16,
   "id": "292a0918",
   "metadata": {},
   "outputs": [],
   "source": [
    "# Imputing missing value with maximum occuring value '1~3'\n",
    "df_raw['CarryAway'].replace(np.NaN, '1~3', inplace = True)"
   ]
  },
  {
   "cell_type": "code",
   "execution_count": 17,
   "id": "901f08d9",
   "metadata": {},
   "outputs": [
    {
     "data": {
      "text/plain": [
       "1~3      5376\n",
       "4~8      3580\n",
       "less1    2093\n",
       "gt8      1285\n",
       "never     220\n",
       "Name: RestaurantLessThan20, dtype: int64"
      ]
     },
     "execution_count": 17,
     "metadata": {},
     "output_type": "execute_result"
    }
   ],
   "source": [
    "df_raw['RestaurantLessThan20'].value_counts()"
   ]
  },
  {
   "cell_type": "code",
   "execution_count": 18,
   "id": "f9992581",
   "metadata": {},
   "outputs": [],
   "source": [
    "# Imputing missing value with maximum occuring value '1~3'\n",
    "df_raw['RestaurantLessThan20'].replace(np.NaN, '1~3', inplace = True)"
   ]
  },
  {
   "cell_type": "code",
   "execution_count": 19,
   "id": "f5620f71",
   "metadata": {},
   "outputs": [
    {
     "data": {
      "text/plain": [
       "less1    6077\n",
       "1~3      3290\n",
       "never    2136\n",
       "4~8       728\n",
       "gt8       264\n",
       "Name: Restaurant20To50, dtype: int64"
      ]
     },
     "execution_count": 19,
     "metadata": {},
     "output_type": "execute_result"
    }
   ],
   "source": [
    "df_raw['Restaurant20To50'].value_counts()"
   ]
  },
  {
   "cell_type": "code",
   "execution_count": 21,
   "id": "a2cf58a4",
   "metadata": {},
   "outputs": [],
   "source": [
    "# Imputing missing value with maximum occuring value 'less1'\n",
    "df_raw['Restaurant20To50'].replace(np.NaN, 'less1', inplace = True)"
   ]
  },
  {
   "cell_type": "code",
   "execution_count": 22,
   "id": "84f7f48b",
   "metadata": {},
   "outputs": [
    {
     "data": {
      "text/plain": [
       "destination             0\n",
       "passanger               0\n",
       "weather                 0\n",
       "temperature             0\n",
       "coupon                  0\n",
       "expiration              0\n",
       "gender                  0\n",
       "age                     0\n",
       "maritalStatus           0\n",
       "has_children            0\n",
       "education               0\n",
       "occupation              0\n",
       "income                  0\n",
       "Bar                     0\n",
       "CoffeeHouse             0\n",
       "CarryAway               0\n",
       "RestaurantLessThan20    0\n",
       "Restaurant20To50        0\n",
       "toCoupon_GEQ15min       0\n",
       "toCoupon_GEQ25min       0\n",
       "direction_same          0\n",
       "direction_opp           0\n",
       "Accept(Y/N?)            0\n",
       "dtype: int64"
      ]
     },
     "execution_count": 22,
     "metadata": {},
     "output_type": "execute_result"
    }
   ],
   "source": [
    "df_raw.isna().sum()"
   ]
  },
  {
   "cell_type": "code",
   "execution_count": 23,
   "id": "7989535e",
   "metadata": {
    "scrolled": false
   },
   "outputs": [
    {
     "name": "stdout",
     "output_type": "stream",
     "text": [
      "<class 'pandas.core.frame.DataFrame'>\n",
      "RangeIndex: 12684 entries, 0 to 12683\n",
      "Data columns (total 23 columns):\n",
      " #   Column                Non-Null Count  Dtype \n",
      "---  ------                --------------  ----- \n",
      " 0   destination           12684 non-null  object\n",
      " 1   passanger             12684 non-null  object\n",
      " 2   weather               12684 non-null  object\n",
      " 3   temperature           12684 non-null  int64 \n",
      " 4   coupon                12684 non-null  object\n",
      " 5   expiration            12684 non-null  object\n",
      " 6   gender                12684 non-null  object\n",
      " 7   age                   12684 non-null  object\n",
      " 8   maritalStatus         12684 non-null  object\n",
      " 9   has_children          12684 non-null  int64 \n",
      " 10  education             12684 non-null  object\n",
      " 11  occupation            12684 non-null  object\n",
      " 12  income                12684 non-null  object\n",
      " 13  Bar                   12684 non-null  object\n",
      " 14  CoffeeHouse           12684 non-null  object\n",
      " 15  CarryAway             12684 non-null  object\n",
      " 16  RestaurantLessThan20  12684 non-null  object\n",
      " 17  Restaurant20To50      12684 non-null  object\n",
      " 18  toCoupon_GEQ15min     12684 non-null  int64 \n",
      " 19  toCoupon_GEQ25min     12684 non-null  int64 \n",
      " 20  direction_same        12684 non-null  int64 \n",
      " 21  direction_opp         12684 non-null  int64 \n",
      " 22  Accept(Y/N?)          12684 non-null  int64 \n",
      "dtypes: int64(7), object(16)\n",
      "memory usage: 2.2+ MB\n"
     ]
    }
   ],
   "source": [
    "df_raw.info()"
   ]
  },
  {
   "cell_type": "markdown",
   "id": "494b120b",
   "metadata": {},
   "source": [
    "# Categorical columns present are :- destination, passenger, weather, time, coupon, expiration, gender, age, maritalstatus, education, occupation, income, Bar, CoffeeHouse, CarryAway, RestaurantLessThan20, Restaurant20To50.\n",
    "\n",
    "#Replacing categorical values to nominal for Gender and Expiration features."
   ]
  },
  {
   "cell_type": "code",
   "execution_count": 24,
   "id": "0a3423af",
   "metadata": {},
   "outputs": [],
   "source": [
    "# Gender feature - replace Female as 0 and Male as 1.\n",
    "df_raw['gender'].replace(\"Female\", 0, inplace = True)\n",
    "df_raw['gender'].replace(\"Male\", 1, inplace = True)"
   ]
  },
  {
   "cell_type": "code",
   "execution_count": 25,
   "id": "21a5e144",
   "metadata": {},
   "outputs": [],
   "source": [
    "# Expiration feature - replace 1d as 1 and 2h as 0.\n",
    "df_raw['expiration'].replace(\"1d\", 1, inplace = True)\n",
    "df_raw['expiration'].replace(\"2h\", 0, inplace = True)"
   ]
  },
  {
   "cell_type": "raw",
   "id": "b7cfd5be",
   "metadata": {},
   "source": [
    "#Applying one hot encoding on remaining categorical columns."
   ]
  },
  {
   "cell_type": "code",
   "execution_count": 26,
   "id": "bf3890a8",
   "metadata": {},
   "outputs": [
    {
     "data": {
      "text/plain": [
       "Index(['passanger', 'weather', 'temperature', 'coupon', 'expiration', 'gender',\n",
       "       'age', 'maritalStatus', 'has_children', 'education', 'occupation',\n",
       "       'income', 'Bar', 'CoffeeHouse', 'CarryAway', 'RestaurantLessThan20',\n",
       "       'Restaurant20To50', 'toCoupon_GEQ15min', 'toCoupon_GEQ25min',\n",
       "       'direction_same', 'direction_opp', 'Accept(Y/N?)', 'dest_Home',\n",
       "       'dest_No Urgent Place', 'dest_Work'],\n",
       "      dtype='object')"
      ]
     },
     "execution_count": 26,
     "metadata": {},
     "output_type": "execute_result"
    }
   ],
   "source": [
    "cols_cat = pd.get_dummies(df_raw['destination'], prefix = 'dest')\n",
    "df_raw[cols_cat.columns] = cols_cat\n",
    "df_raw = df_raw.drop(['destination'], axis = 1)\n",
    "df_raw.columns"
   ]
  },
  {
   "cell_type": "code",
   "execution_count": 27,
   "id": "59e8b49c",
   "metadata": {},
   "outputs": [
    {
     "data": {
      "text/plain": [
       "Index(['passanger', 'temperature', 'coupon', 'expiration', 'gender', 'age',\n",
       "       'maritalStatus', 'has_children', 'education', 'occupation', 'income',\n",
       "       'Bar', 'CoffeeHouse', 'CarryAway', 'RestaurantLessThan20',\n",
       "       'Restaurant20To50', 'toCoupon_GEQ15min', 'toCoupon_GEQ25min',\n",
       "       'direction_same', 'direction_opp', 'Accept(Y/N?)', 'dest_Home',\n",
       "       'dest_No Urgent Place', 'dest_Work', 'weath_Rainy', 'weath_Snowy',\n",
       "       'weath_Sunny'],\n",
       "      dtype='object')"
      ]
     },
     "execution_count": 27,
     "metadata": {},
     "output_type": "execute_result"
    }
   ],
   "source": [
    "cols_cat = pd.get_dummies(df_raw['weather'], prefix = 'weath')\n",
    "df_raw[cols_cat.columns] = cols_cat\n",
    "df_raw = df_raw.drop(['weather'], axis = 1)\n",
    "df_raw.columns"
   ]
  },
  {
   "cell_type": "code",
   "execution_count": 28,
   "id": "30860003",
   "metadata": {},
   "outputs": [
    {
     "data": {
      "text/plain": [
       "Index(['temperature', 'coupon', 'expiration', 'gender', 'age', 'maritalStatus',\n",
       "       'has_children', 'education', 'occupation', 'income', 'Bar',\n",
       "       'CoffeeHouse', 'CarryAway', 'RestaurantLessThan20', 'Restaurant20To50',\n",
       "       'toCoupon_GEQ15min', 'toCoupon_GEQ25min', 'direction_same',\n",
       "       'direction_opp', 'Accept(Y/N?)', 'dest_Home', 'dest_No Urgent Place',\n",
       "       'dest_Work', 'weath_Rainy', 'weath_Snowy', 'weath_Sunny', 'pass_Alone',\n",
       "       'pass_Friend(s)', 'pass_Kid(s)', 'pass_Partner'],\n",
       "      dtype='object')"
      ]
     },
     "execution_count": 28,
     "metadata": {},
     "output_type": "execute_result"
    }
   ],
   "source": [
    "cols_cat = pd.get_dummies(df_raw['passanger'], prefix = 'pass')\n",
    "df_raw[cols_cat.columns] = cols_cat\n",
    "df_raw = df_raw.drop(['passanger'], axis = 1)\n",
    "df_raw.columns"
   ]
  },
  {
   "cell_type": "code",
   "execution_count": 30,
   "id": "5db60462",
   "metadata": {},
   "outputs": [
    {
     "data": {
      "text/plain": [
       "Index(['temperature', 'expiration', 'gender', 'age', 'maritalStatus',\n",
       "       'has_children', 'education', 'occupation', 'income', 'Bar',\n",
       "       'CoffeeHouse', 'CarryAway', 'RestaurantLessThan20', 'Restaurant20To50',\n",
       "       'toCoupon_GEQ15min', 'toCoupon_GEQ25min', 'direction_same',\n",
       "       'direction_opp', 'Accept(Y/N?)', 'dest_Home', 'dest_No Urgent Place',\n",
       "       'dest_Work', 'weath_Rainy', 'weath_Snowy', 'weath_Sunny', 'pass_Alone',\n",
       "       'pass_Friend(s)', 'pass_Kid(s)', 'pass_Partner', 'coup_Bar',\n",
       "       'coup_Carry out & Take away', 'coup_Coffee House',\n",
       "       'coup_Restaurant(20-50)', 'coup_Restaurant(<20)'],\n",
       "      dtype='object')"
      ]
     },
     "execution_count": 30,
     "metadata": {},
     "output_type": "execute_result"
    }
   ],
   "source": [
    "cols_cat = pd.get_dummies(df_raw['coupon'], prefix = 'coup')\n",
    "df_raw[cols_cat.columns] = cols_cat\n",
    "df_raw = df_raw.drop(['coupon'], axis = 1)\n",
    "df_raw.columns"
   ]
  },
  {
   "cell_type": "code",
   "execution_count": 31,
   "id": "336fc14c",
   "metadata": {},
   "outputs": [
    {
     "data": {
      "text/plain": [
       "Index(['temperature', 'expiration', 'gender', 'maritalStatus', 'has_children',\n",
       "       'education', 'occupation', 'income', 'Bar', 'CoffeeHouse', 'CarryAway',\n",
       "       'RestaurantLessThan20', 'Restaurant20To50', 'toCoupon_GEQ15min',\n",
       "       'toCoupon_GEQ25min', 'direction_same', 'direction_opp', 'Accept(Y/N?)',\n",
       "       'dest_Home', 'dest_No Urgent Place', 'dest_Work', 'weath_Rainy',\n",
       "       'weath_Snowy', 'weath_Sunny', 'pass_Alone', 'pass_Friend(s)',\n",
       "       'pass_Kid(s)', 'pass_Partner', 'coup_Bar', 'coup_Carry out & Take away',\n",
       "       'coup_Coffee House', 'coup_Restaurant(20-50)', 'coup_Restaurant(<20)',\n",
       "       'age_21', 'age_26', 'age_31', 'age_36', 'age_41', 'age_46',\n",
       "       'age_50plus', 'age_below21'],\n",
       "      dtype='object')"
      ]
     },
     "execution_count": 31,
     "metadata": {},
     "output_type": "execute_result"
    }
   ],
   "source": [
    "cols_cat = pd.get_dummies(df_raw['age'], prefix = 'age')\n",
    "df_raw[cols_cat.columns] = cols_cat\n",
    "df_raw = df_raw.drop(['age'], axis = 1)\n",
    "df_raw.columns"
   ]
  },
  {
   "cell_type": "code",
   "execution_count": 32,
   "id": "197fa2ea",
   "metadata": {},
   "outputs": [
    {
     "data": {
      "text/plain": [
       "Index(['temperature', 'expiration', 'gender', 'has_children', 'education',\n",
       "       'occupation', 'income', 'Bar', 'CoffeeHouse', 'CarryAway',\n",
       "       'RestaurantLessThan20', 'Restaurant20To50', 'toCoupon_GEQ15min',\n",
       "       'toCoupon_GEQ25min', 'direction_same', 'direction_opp', 'Accept(Y/N?)',\n",
       "       'dest_Home', 'dest_No Urgent Place', 'dest_Work', 'weath_Rainy',\n",
       "       'weath_Snowy', 'weath_Sunny', 'pass_Alone', 'pass_Friend(s)',\n",
       "       'pass_Kid(s)', 'pass_Partner', 'coup_Bar', 'coup_Carry out & Take away',\n",
       "       'coup_Coffee House', 'coup_Restaurant(20-50)', 'coup_Restaurant(<20)',\n",
       "       'age_21', 'age_26', 'age_31', 'age_36', 'age_41', 'age_46',\n",
       "       'age_50plus', 'age_below21', 'mari_Stat_Divorced',\n",
       "       'mari_Stat_Married partner', 'mari_Stat_Single',\n",
       "       'mari_Stat_Unmarried partner', 'mari_Stat_Widowed'],\n",
       "      dtype='object')"
      ]
     },
     "execution_count": 32,
     "metadata": {},
     "output_type": "execute_result"
    }
   ],
   "source": [
    "cols_cat = pd.get_dummies(df_raw['maritalStatus'], prefix = 'mari_Stat')\n",
    "df_raw[cols_cat.columns] = cols_cat\n",
    "df_raw = df_raw.drop(['maritalStatus'], axis = 1)\n",
    "df_raw.columns"
   ]
  },
  {
   "cell_type": "code",
   "execution_count": 33,
   "id": "3b7be578",
   "metadata": {},
   "outputs": [
    {
     "data": {
      "text/plain": [
       "Index(['temperature', 'expiration', 'gender', 'has_children', 'occupation',\n",
       "       'income', 'Bar', 'CoffeeHouse', 'CarryAway', 'RestaurantLessThan20',\n",
       "       'Restaurant20To50', 'toCoupon_GEQ15min', 'toCoupon_GEQ25min',\n",
       "       'direction_same', 'direction_opp', 'Accept(Y/N?)', 'dest_Home',\n",
       "       'dest_No Urgent Place', 'dest_Work', 'weath_Rainy', 'weath_Snowy',\n",
       "       'weath_Sunny', 'pass_Alone', 'pass_Friend(s)', 'pass_Kid(s)',\n",
       "       'pass_Partner', 'coup_Bar', 'coup_Carry out & Take away',\n",
       "       'coup_Coffee House', 'coup_Restaurant(20-50)', 'coup_Restaurant(<20)',\n",
       "       'age_21', 'age_26', 'age_31', 'age_36', 'age_41', 'age_46',\n",
       "       'age_50plus', 'age_below21', 'mari_Stat_Divorced',\n",
       "       'mari_Stat_Married partner', 'mari_Stat_Single',\n",
       "       'mari_Stat_Unmarried partner', 'mari_Stat_Widowed',\n",
       "       'ed_Associates degree', 'ed_Bachelors degree',\n",
       "       'ed_Graduate degree (Masters or Doctorate)', 'ed_High School Graduate',\n",
       "       'ed_Some High School', 'ed_Some college - no degree'],\n",
       "      dtype='object')"
      ]
     },
     "execution_count": 33,
     "metadata": {},
     "output_type": "execute_result"
    }
   ],
   "source": [
    "cols_cat = pd.get_dummies(df_raw['education'], prefix = 'ed')\n",
    "df_raw[cols_cat.columns] = cols_cat\n",
    "df_raw = df_raw.drop(['education'], axis = 1)\n",
    "df_raw.columns"
   ]
  },
  {
   "cell_type": "code",
   "execution_count": 34,
   "id": "6ab6af07",
   "metadata": {},
   "outputs": [
    {
     "data": {
      "text/plain": [
       "Index(['temperature', 'expiration', 'gender', 'has_children', 'occupation',\n",
       "       'Bar', 'CoffeeHouse', 'CarryAway', 'RestaurantLessThan20',\n",
       "       'Restaurant20To50', 'toCoupon_GEQ15min', 'toCoupon_GEQ25min',\n",
       "       'direction_same', 'direction_opp', 'Accept(Y/N?)', 'dest_Home',\n",
       "       'dest_No Urgent Place', 'dest_Work', 'weath_Rainy', 'weath_Snowy',\n",
       "       'weath_Sunny', 'pass_Alone', 'pass_Friend(s)', 'pass_Kid(s)',\n",
       "       'pass_Partner', 'coup_Bar', 'coup_Carry out & Take away',\n",
       "       'coup_Coffee House', 'coup_Restaurant(20-50)', 'coup_Restaurant(<20)',\n",
       "       'age_21', 'age_26', 'age_31', 'age_36', 'age_41', 'age_46',\n",
       "       'age_50plus', 'age_below21', 'mari_Stat_Divorced',\n",
       "       'mari_Stat_Married partner', 'mari_Stat_Single',\n",
       "       'mari_Stat_Unmarried partner', 'mari_Stat_Widowed',\n",
       "       'ed_Associates degree', 'ed_Bachelors degree',\n",
       "       'ed_Graduate degree (Masters or Doctorate)', 'ed_High School Graduate',\n",
       "       'ed_Some High School', 'ed_Some college - no degree',\n",
       "       'income_$100000 or More', 'income_$12500 - $24999',\n",
       "       'income_$25000 - $37499', 'income_$37500 - $49999',\n",
       "       'income_$50000 - $62499', 'income_$62500 - $74999',\n",
       "       'income_$75000 - $87499', 'income_$87500 - $99999',\n",
       "       'income_Less than $12500'],\n",
       "      dtype='object')"
      ]
     },
     "execution_count": 34,
     "metadata": {},
     "output_type": "execute_result"
    }
   ],
   "source": [
    "cols_cat = pd.get_dummies(df_raw['income'], prefix = 'income')\n",
    "df_raw[cols_cat.columns] = cols_cat\n",
    "df_raw = df_raw.drop(['income'], axis = 1)\n",
    "df_raw.columns"
   ]
  },
  {
   "cell_type": "code",
   "execution_count": 35,
   "id": "692f97c7",
   "metadata": {},
   "outputs": [
    {
     "data": {
      "text/plain": [
       "Index(['temperature', 'expiration', 'gender', 'has_children', 'occupation',\n",
       "       'CoffeeHouse', 'CarryAway', 'RestaurantLessThan20', 'Restaurant20To50',\n",
       "       'toCoupon_GEQ15min', 'toCoupon_GEQ25min', 'direction_same',\n",
       "       'direction_opp', 'Accept(Y/N?)', 'dest_Home', 'dest_No Urgent Place',\n",
       "       'dest_Work', 'weath_Rainy', 'weath_Snowy', 'weath_Sunny', 'pass_Alone',\n",
       "       'pass_Friend(s)', 'pass_Kid(s)', 'pass_Partner', 'coup_Bar',\n",
       "       'coup_Carry out & Take away', 'coup_Coffee House',\n",
       "       'coup_Restaurant(20-50)', 'coup_Restaurant(<20)', 'age_21', 'age_26',\n",
       "       'age_31', 'age_36', 'age_41', 'age_46', 'age_50plus', 'age_below21',\n",
       "       'mari_Stat_Divorced', 'mari_Stat_Married partner', 'mari_Stat_Single',\n",
       "       'mari_Stat_Unmarried partner', 'mari_Stat_Widowed',\n",
       "       'ed_Associates degree', 'ed_Bachelors degree',\n",
       "       'ed_Graduate degree (Masters or Doctorate)', 'ed_High School Graduate',\n",
       "       'ed_Some High School', 'ed_Some college - no degree',\n",
       "       'income_$100000 or More', 'income_$12500 - $24999',\n",
       "       'income_$25000 - $37499', 'income_$37500 - $49999',\n",
       "       'income_$50000 - $62499', 'income_$62500 - $74999',\n",
       "       'income_$75000 - $87499', 'income_$87500 - $99999',\n",
       "       'income_Less than $12500', 'Bar_1~3', 'Bar_4~8', 'Bar_gt8', 'Bar_less1',\n",
       "       'Bar_never'],\n",
       "      dtype='object')"
      ]
     },
     "execution_count": 35,
     "metadata": {},
     "output_type": "execute_result"
    }
   ],
   "source": [
    "cols_cat = pd.get_dummies(df_raw['Bar'], prefix = 'Bar')\n",
    "df_raw[cols_cat.columns] = cols_cat\n",
    "df_raw = df_raw.drop(['Bar'], axis = 1)\n",
    "df_raw.columns"
   ]
  },
  {
   "cell_type": "code",
   "execution_count": 36,
   "id": "3d42a55c",
   "metadata": {},
   "outputs": [
    {
     "data": {
      "text/plain": [
       "Index(['temperature', 'expiration', 'gender', 'has_children', 'occupation',\n",
       "       'CarryAway', 'RestaurantLessThan20', 'Restaurant20To50',\n",
       "       'toCoupon_GEQ15min', 'toCoupon_GEQ25min', 'direction_same',\n",
       "       'direction_opp', 'Accept(Y/N?)', 'dest_Home', 'dest_No Urgent Place',\n",
       "       'dest_Work', 'weath_Rainy', 'weath_Snowy', 'weath_Sunny', 'pass_Alone',\n",
       "       'pass_Friend(s)', 'pass_Kid(s)', 'pass_Partner', 'coup_Bar',\n",
       "       'coup_Carry out & Take away', 'coup_Coffee House',\n",
       "       'coup_Restaurant(20-50)', 'coup_Restaurant(<20)', 'age_21', 'age_26',\n",
       "       'age_31', 'age_36', 'age_41', 'age_46', 'age_50plus', 'age_below21',\n",
       "       'mari_Stat_Divorced', 'mari_Stat_Married partner', 'mari_Stat_Single',\n",
       "       'mari_Stat_Unmarried partner', 'mari_Stat_Widowed',\n",
       "       'ed_Associates degree', 'ed_Bachelors degree',\n",
       "       'ed_Graduate degree (Masters or Doctorate)', 'ed_High School Graduate',\n",
       "       'ed_Some High School', 'ed_Some college - no degree',\n",
       "       'income_$100000 or More', 'income_$12500 - $24999',\n",
       "       'income_$25000 - $37499', 'income_$37500 - $49999',\n",
       "       'income_$50000 - $62499', 'income_$62500 - $74999',\n",
       "       'income_$75000 - $87499', 'income_$87500 - $99999',\n",
       "       'income_Less than $12500', 'Bar_1~3', 'Bar_4~8', 'Bar_gt8', 'Bar_less1',\n",
       "       'Bar_never', 'Coffee_1~3', 'Coffee_4~8', 'Coffee_gt8', 'Coffee_less1',\n",
       "       'Coffee_never'],\n",
       "      dtype='object')"
      ]
     },
     "execution_count": 36,
     "metadata": {},
     "output_type": "execute_result"
    }
   ],
   "source": [
    "cols_cat = pd.get_dummies(df_raw['CoffeeHouse'], prefix = 'Coffee')\n",
    "df_raw[cols_cat.columns] = cols_cat\n",
    "df_raw = df_raw.drop(['CoffeeHouse'], axis = 1)\n",
    "df_raw.columns"
   ]
  },
  {
   "cell_type": "code",
   "execution_count": 37,
   "id": "61a09d72",
   "metadata": {},
   "outputs": [
    {
     "data": {
      "text/plain": [
       "Index(['temperature', 'expiration', 'gender', 'has_children', 'occupation',\n",
       "       'RestaurantLessThan20', 'Restaurant20To50', 'toCoupon_GEQ15min',\n",
       "       'toCoupon_GEQ25min', 'direction_same', 'direction_opp', 'Accept(Y/N?)',\n",
       "       'dest_Home', 'dest_No Urgent Place', 'dest_Work', 'weath_Rainy',\n",
       "       'weath_Snowy', 'weath_Sunny', 'pass_Alone', 'pass_Friend(s)',\n",
       "       'pass_Kid(s)', 'pass_Partner', 'coup_Bar', 'coup_Carry out & Take away',\n",
       "       'coup_Coffee House', 'coup_Restaurant(20-50)', 'coup_Restaurant(<20)',\n",
       "       'age_21', 'age_26', 'age_31', 'age_36', 'age_41', 'age_46',\n",
       "       'age_50plus', 'age_below21', 'mari_Stat_Divorced',\n",
       "       'mari_Stat_Married partner', 'mari_Stat_Single',\n",
       "       'mari_Stat_Unmarried partner', 'mari_Stat_Widowed',\n",
       "       'ed_Associates degree', 'ed_Bachelors degree',\n",
       "       'ed_Graduate degree (Masters or Doctorate)', 'ed_High School Graduate',\n",
       "       'ed_Some High School', 'ed_Some college - no degree',\n",
       "       'income_$100000 or More', 'income_$12500 - $24999',\n",
       "       'income_$25000 - $37499', 'income_$37500 - $49999',\n",
       "       'income_$50000 - $62499', 'income_$62500 - $74999',\n",
       "       'income_$75000 - $87499', 'income_$87500 - $99999',\n",
       "       'income_Less than $12500', 'Bar_1~3', 'Bar_4~8', 'Bar_gt8', 'Bar_less1',\n",
       "       'Bar_never', 'Coffee_1~3', 'Coffee_4~8', 'Coffee_gt8', 'Coffee_less1',\n",
       "       'Coffee_never', 'Carry_1~3', 'Carry_4~8', 'Carry_gt8', 'Carry_less1',\n",
       "       'Carry_never'],\n",
       "      dtype='object')"
      ]
     },
     "execution_count": 37,
     "metadata": {},
     "output_type": "execute_result"
    }
   ],
   "source": [
    "cols_cat = pd.get_dummies(df_raw['CarryAway'], prefix = 'Carry')\n",
    "df_raw[cols_cat.columns] = cols_cat\n",
    "df_raw = df_raw.drop(['CarryAway'], axis = 1)\n",
    "df_raw.columns"
   ]
  },
  {
   "cell_type": "code",
   "execution_count": 38,
   "id": "fd2e9c78",
   "metadata": {},
   "outputs": [
    {
     "data": {
      "text/plain": [
       "Index(['temperature', 'expiration', 'gender', 'has_children', 'occupation',\n",
       "       'Restaurant20To50', 'toCoupon_GEQ15min', 'toCoupon_GEQ25min',\n",
       "       'direction_same', 'direction_opp', 'Accept(Y/N?)', 'dest_Home',\n",
       "       'dest_No Urgent Place', 'dest_Work', 'weath_Rainy', 'weath_Snowy',\n",
       "       'weath_Sunny', 'pass_Alone', 'pass_Friend(s)', 'pass_Kid(s)',\n",
       "       'pass_Partner', 'coup_Bar', 'coup_Carry out & Take away',\n",
       "       'coup_Coffee House', 'coup_Restaurant(20-50)', 'coup_Restaurant(<20)',\n",
       "       'age_21', 'age_26', 'age_31', 'age_36', 'age_41', 'age_46',\n",
       "       'age_50plus', 'age_below21', 'mari_Stat_Divorced',\n",
       "       'mari_Stat_Married partner', 'mari_Stat_Single',\n",
       "       'mari_Stat_Unmarried partner', 'mari_Stat_Widowed',\n",
       "       'ed_Associates degree', 'ed_Bachelors degree',\n",
       "       'ed_Graduate degree (Masters or Doctorate)', 'ed_High School Graduate',\n",
       "       'ed_Some High School', 'ed_Some college - no degree',\n",
       "       'income_$100000 or More', 'income_$12500 - $24999',\n",
       "       'income_$25000 - $37499', 'income_$37500 - $49999',\n",
       "       'income_$50000 - $62499', 'income_$62500 - $74999',\n",
       "       'income_$75000 - $87499', 'income_$87500 - $99999',\n",
       "       'income_Less than $12500', 'Bar_1~3', 'Bar_4~8', 'Bar_gt8', 'Bar_less1',\n",
       "       'Bar_never', 'Coffee_1~3', 'Coffee_4~8', 'Coffee_gt8', 'Coffee_less1',\n",
       "       'Coffee_never', 'Carry_1~3', 'Carry_4~8', 'Carry_gt8', 'Carry_less1',\n",
       "       'Carry_never', 'Restaurant_20_1~3', 'Restaurant_20_4~8',\n",
       "       'Restaurant_20_gt8', 'Restaurant_20_less1', 'Restaurant_20_never'],\n",
       "      dtype='object')"
      ]
     },
     "execution_count": 38,
     "metadata": {},
     "output_type": "execute_result"
    }
   ],
   "source": [
    "cols_cat = pd.get_dummies(df_raw['RestaurantLessThan20'], prefix = 'Restaurant_20')\n",
    "df_raw[cols_cat.columns] = cols_cat\n",
    "df_raw = df_raw.drop(['RestaurantLessThan20'], axis = 1)\n",
    "df_raw.columns"
   ]
  },
  {
   "cell_type": "code",
   "execution_count": 39,
   "id": "6dff6151",
   "metadata": {},
   "outputs": [
    {
     "data": {
      "text/plain": [
       "Index(['temperature', 'expiration', 'gender', 'has_children', 'occupation',\n",
       "       'toCoupon_GEQ15min', 'toCoupon_GEQ25min', 'direction_same',\n",
       "       'direction_opp', 'Accept(Y/N?)', 'dest_Home', 'dest_No Urgent Place',\n",
       "       'dest_Work', 'weath_Rainy', 'weath_Snowy', 'weath_Sunny', 'pass_Alone',\n",
       "       'pass_Friend(s)', 'pass_Kid(s)', 'pass_Partner', 'coup_Bar',\n",
       "       'coup_Carry out & Take away', 'coup_Coffee House',\n",
       "       'coup_Restaurant(20-50)', 'coup_Restaurant(<20)', 'age_21', 'age_26',\n",
       "       'age_31', 'age_36', 'age_41', 'age_46', 'age_50plus', 'age_below21',\n",
       "       'mari_Stat_Divorced', 'mari_Stat_Married partner', 'mari_Stat_Single',\n",
       "       'mari_Stat_Unmarried partner', 'mari_Stat_Widowed',\n",
       "       'ed_Associates degree', 'ed_Bachelors degree',\n",
       "       'ed_Graduate degree (Masters or Doctorate)', 'ed_High School Graduate',\n",
       "       'ed_Some High School', 'ed_Some college - no degree',\n",
       "       'income_$100000 or More', 'income_$12500 - $24999',\n",
       "       'income_$25000 - $37499', 'income_$37500 - $49999',\n",
       "       'income_$50000 - $62499', 'income_$62500 - $74999',\n",
       "       'income_$75000 - $87499', 'income_$87500 - $99999',\n",
       "       'income_Less than $12500', 'Bar_1~3', 'Bar_4~8', 'Bar_gt8', 'Bar_less1',\n",
       "       'Bar_never', 'Coffee_1~3', 'Coffee_4~8', 'Coffee_gt8', 'Coffee_less1',\n",
       "       'Coffee_never', 'Carry_1~3', 'Carry_4~8', 'Carry_gt8', 'Carry_less1',\n",
       "       'Carry_never', 'Restaurant_20_1~3', 'Restaurant_20_4~8',\n",
       "       'Restaurant_20_gt8', 'Restaurant_20_less1', 'Restaurant_20_never',\n",
       "       'Restaurant20_50_1~3', 'Restaurant20_50_4~8', 'Restaurant20_50_gt8',\n",
       "       'Restaurant20_50_less1', 'Restaurant20_50_never'],\n",
       "      dtype='object')"
      ]
     },
     "execution_count": 39,
     "metadata": {},
     "output_type": "execute_result"
    }
   ],
   "source": [
    "cols_cat = pd.get_dummies(df_raw['Restaurant20To50'], prefix = 'Restaurant20_50')\n",
    "df_raw[cols_cat.columns] = cols_cat\n",
    "df_raw = df_raw.drop(['Restaurant20To50'], axis = 1)\n",
    "df_raw.columns"
   ]
  },
  {
   "cell_type": "code",
   "execution_count": 40,
   "id": "ddc4209e",
   "metadata": {},
   "outputs": [
    {
     "data": {
      "text/plain": [
       "Index(['temperature', 'expiration', 'gender', 'has_children',\n",
       "       'toCoupon_GEQ15min', 'toCoupon_GEQ25min', 'direction_same',\n",
       "       'direction_opp', 'Accept(Y/N?)', 'dest_Home',\n",
       "       ...\n",
       "       'occupa_Management', 'occupa_Office & Administrative Support',\n",
       "       'occupa_Personal Care & Service', 'occupa_Production Occupations',\n",
       "       'occupa_Protective Service', 'occupa_Retired', 'occupa_Sales & Related',\n",
       "       'occupa_Student', 'occupa_Transportation & Material Moving',\n",
       "       'occupa_Unemployed'],\n",
       "      dtype='object', length=102)"
      ]
     },
     "execution_count": 40,
     "metadata": {},
     "output_type": "execute_result"
    }
   ],
   "source": [
    "cols_cat = pd.get_dummies(df_raw['occupation'], prefix = 'occupa')\n",
    "df_raw[cols_cat.columns] = cols_cat\n",
    "df_raw = df_raw.drop(['occupation'], axis = 1)\n",
    "df_raw.columns"
   ]
  },
  {
   "cell_type": "code",
   "execution_count": 41,
   "id": "cb80d5e0",
   "metadata": {},
   "outputs": [
    {
     "name": "stdout",
     "output_type": "stream",
     "text": [
      "<class 'pandas.core.frame.DataFrame'>\n",
      "RangeIndex: 12684 entries, 0 to 12683\n",
      "Columns: 102 entries, temperature to occupa_Unemployed\n",
      "dtypes: int64(9), uint8(93)\n",
      "memory usage: 2.0 MB\n"
     ]
    }
   ],
   "source": [
    "df_raw.info()"
   ]
  },
  {
   "cell_type": "code",
   "execution_count": 42,
   "id": "41a75cf6",
   "metadata": {},
   "outputs": [
    {
     "data": {
      "text/html": [
       "<div>\n",
       "<style scoped>\n",
       "    .dataframe tbody tr th:only-of-type {\n",
       "        vertical-align: middle;\n",
       "    }\n",
       "\n",
       "    .dataframe tbody tr th {\n",
       "        vertical-align: top;\n",
       "    }\n",
       "\n",
       "    .dataframe thead th {\n",
       "        text-align: right;\n",
       "    }\n",
       "</style>\n",
       "<table border=\"1\" class=\"dataframe\">\n",
       "  <thead>\n",
       "    <tr style=\"text-align: right;\">\n",
       "      <th></th>\n",
       "      <th>temperature</th>\n",
       "      <th>expiration</th>\n",
       "      <th>gender</th>\n",
       "      <th>has_children</th>\n",
       "      <th>toCoupon_GEQ15min</th>\n",
       "      <th>toCoupon_GEQ25min</th>\n",
       "      <th>direction_same</th>\n",
       "      <th>direction_opp</th>\n",
       "      <th>Accept(Y/N?)</th>\n",
       "      <th>dest_Home</th>\n",
       "      <th>...</th>\n",
       "      <th>occupa_Management</th>\n",
       "      <th>occupa_Office &amp; Administrative Support</th>\n",
       "      <th>occupa_Personal Care &amp; Service</th>\n",
       "      <th>occupa_Production Occupations</th>\n",
       "      <th>occupa_Protective Service</th>\n",
       "      <th>occupa_Retired</th>\n",
       "      <th>occupa_Sales &amp; Related</th>\n",
       "      <th>occupa_Student</th>\n",
       "      <th>occupa_Transportation &amp; Material Moving</th>\n",
       "      <th>occupa_Unemployed</th>\n",
       "    </tr>\n",
       "  </thead>\n",
       "  <tbody>\n",
       "    <tr>\n",
       "      <th>0</th>\n",
       "      <td>55</td>\n",
       "      <td>1</td>\n",
       "      <td>0</td>\n",
       "      <td>1</td>\n",
       "      <td>0</td>\n",
       "      <td>0</td>\n",
       "      <td>0</td>\n",
       "      <td>1</td>\n",
       "      <td>1</td>\n",
       "      <td>0</td>\n",
       "      <td>...</td>\n",
       "      <td>0</td>\n",
       "      <td>0</td>\n",
       "      <td>0</td>\n",
       "      <td>0</td>\n",
       "      <td>0</td>\n",
       "      <td>0</td>\n",
       "      <td>0</td>\n",
       "      <td>0</td>\n",
       "      <td>0</td>\n",
       "      <td>1</td>\n",
       "    </tr>\n",
       "    <tr>\n",
       "      <th>1</th>\n",
       "      <td>80</td>\n",
       "      <td>0</td>\n",
       "      <td>0</td>\n",
       "      <td>1</td>\n",
       "      <td>0</td>\n",
       "      <td>0</td>\n",
       "      <td>0</td>\n",
       "      <td>1</td>\n",
       "      <td>0</td>\n",
       "      <td>0</td>\n",
       "      <td>...</td>\n",
       "      <td>0</td>\n",
       "      <td>0</td>\n",
       "      <td>0</td>\n",
       "      <td>0</td>\n",
       "      <td>0</td>\n",
       "      <td>0</td>\n",
       "      <td>0</td>\n",
       "      <td>0</td>\n",
       "      <td>0</td>\n",
       "      <td>1</td>\n",
       "    </tr>\n",
       "    <tr>\n",
       "      <th>2</th>\n",
       "      <td>80</td>\n",
       "      <td>0</td>\n",
       "      <td>0</td>\n",
       "      <td>1</td>\n",
       "      <td>1</td>\n",
       "      <td>0</td>\n",
       "      <td>0</td>\n",
       "      <td>1</td>\n",
       "      <td>1</td>\n",
       "      <td>0</td>\n",
       "      <td>...</td>\n",
       "      <td>0</td>\n",
       "      <td>0</td>\n",
       "      <td>0</td>\n",
       "      <td>0</td>\n",
       "      <td>0</td>\n",
       "      <td>0</td>\n",
       "      <td>0</td>\n",
       "      <td>0</td>\n",
       "      <td>0</td>\n",
       "      <td>1</td>\n",
       "    </tr>\n",
       "    <tr>\n",
       "      <th>3</th>\n",
       "      <td>80</td>\n",
       "      <td>0</td>\n",
       "      <td>0</td>\n",
       "      <td>1</td>\n",
       "      <td>1</td>\n",
       "      <td>0</td>\n",
       "      <td>0</td>\n",
       "      <td>1</td>\n",
       "      <td>0</td>\n",
       "      <td>0</td>\n",
       "      <td>...</td>\n",
       "      <td>0</td>\n",
       "      <td>0</td>\n",
       "      <td>0</td>\n",
       "      <td>0</td>\n",
       "      <td>0</td>\n",
       "      <td>0</td>\n",
       "      <td>0</td>\n",
       "      <td>0</td>\n",
       "      <td>0</td>\n",
       "      <td>1</td>\n",
       "    </tr>\n",
       "    <tr>\n",
       "      <th>4</th>\n",
       "      <td>80</td>\n",
       "      <td>1</td>\n",
       "      <td>0</td>\n",
       "      <td>1</td>\n",
       "      <td>1</td>\n",
       "      <td>0</td>\n",
       "      <td>0</td>\n",
       "      <td>1</td>\n",
       "      <td>0</td>\n",
       "      <td>0</td>\n",
       "      <td>...</td>\n",
       "      <td>0</td>\n",
       "      <td>0</td>\n",
       "      <td>0</td>\n",
       "      <td>0</td>\n",
       "      <td>0</td>\n",
       "      <td>0</td>\n",
       "      <td>0</td>\n",
       "      <td>0</td>\n",
       "      <td>0</td>\n",
       "      <td>1</td>\n",
       "    </tr>\n",
       "  </tbody>\n",
       "</table>\n",
       "<p>5 rows × 102 columns</p>\n",
       "</div>"
      ],
      "text/plain": [
       "   temperature  expiration  gender  has_children  toCoupon_GEQ15min  \\\n",
       "0           55           1       0             1                  0   \n",
       "1           80           0       0             1                  0   \n",
       "2           80           0       0             1                  1   \n",
       "3           80           0       0             1                  1   \n",
       "4           80           1       0             1                  1   \n",
       "\n",
       "   toCoupon_GEQ25min  direction_same  direction_opp  Accept(Y/N?)  dest_Home  \\\n",
       "0                  0               0              1             1          0   \n",
       "1                  0               0              1             0          0   \n",
       "2                  0               0              1             1          0   \n",
       "3                  0               0              1             0          0   \n",
       "4                  0               0              1             0          0   \n",
       "\n",
       "   ...  occupa_Management  occupa_Office & Administrative Support  \\\n",
       "0  ...                  0                                       0   \n",
       "1  ...                  0                                       0   \n",
       "2  ...                  0                                       0   \n",
       "3  ...                  0                                       0   \n",
       "4  ...                  0                                       0   \n",
       "\n",
       "   occupa_Personal Care & Service  occupa_Production Occupations  \\\n",
       "0                               0                              0   \n",
       "1                               0                              0   \n",
       "2                               0                              0   \n",
       "3                               0                              0   \n",
       "4                               0                              0   \n",
       "\n",
       "   occupa_Protective Service  occupa_Retired  occupa_Sales & Related  \\\n",
       "0                          0               0                       0   \n",
       "1                          0               0                       0   \n",
       "2                          0               0                       0   \n",
       "3                          0               0                       0   \n",
       "4                          0               0                       0   \n",
       "\n",
       "   occupa_Student  occupa_Transportation & Material Moving  occupa_Unemployed  \n",
       "0               0                                        0                  1  \n",
       "1               0                                        0                  1  \n",
       "2               0                                        0                  1  \n",
       "3               0                                        0                  1  \n",
       "4               0                                        0                  1  \n",
       "\n",
       "[5 rows x 102 columns]"
      ]
     },
     "execution_count": 42,
     "metadata": {},
     "output_type": "execute_result"
    }
   ],
   "source": [
    "df_raw.head()"
   ]
  },
  {
   "cell_type": "code",
   "execution_count": 43,
   "id": "535a0cbc",
   "metadata": {},
   "outputs": [],
   "source": [
    "df_final = df_raw"
   ]
  },
  {
   "cell_type": "code",
   "execution_count": 44,
   "id": "fd370bcd",
   "metadata": {},
   "outputs": [
    {
     "data": {
      "text/html": [
       "<div>\n",
       "<style scoped>\n",
       "    .dataframe tbody tr th:only-of-type {\n",
       "        vertical-align: middle;\n",
       "    }\n",
       "\n",
       "    .dataframe tbody tr th {\n",
       "        vertical-align: top;\n",
       "    }\n",
       "\n",
       "    .dataframe thead th {\n",
       "        text-align: right;\n",
       "    }\n",
       "</style>\n",
       "<table border=\"1\" class=\"dataframe\">\n",
       "  <thead>\n",
       "    <tr style=\"text-align: right;\">\n",
       "      <th></th>\n",
       "      <th>temperature</th>\n",
       "      <th>expiration</th>\n",
       "      <th>gender</th>\n",
       "      <th>has_children</th>\n",
       "      <th>toCoupon_GEQ15min</th>\n",
       "      <th>toCoupon_GEQ25min</th>\n",
       "      <th>direction_same</th>\n",
       "      <th>direction_opp</th>\n",
       "      <th>Accept(Y/N?)</th>\n",
       "      <th>dest_Home</th>\n",
       "      <th>...</th>\n",
       "      <th>occupa_Management</th>\n",
       "      <th>occupa_Office &amp; Administrative Support</th>\n",
       "      <th>occupa_Personal Care &amp; Service</th>\n",
       "      <th>occupa_Production Occupations</th>\n",
       "      <th>occupa_Protective Service</th>\n",
       "      <th>occupa_Retired</th>\n",
       "      <th>occupa_Sales &amp; Related</th>\n",
       "      <th>occupa_Student</th>\n",
       "      <th>occupa_Transportation &amp; Material Moving</th>\n",
       "      <th>occupa_Unemployed</th>\n",
       "    </tr>\n",
       "  </thead>\n",
       "  <tbody>\n",
       "    <tr>\n",
       "      <th>0</th>\n",
       "      <td>55</td>\n",
       "      <td>1</td>\n",
       "      <td>0</td>\n",
       "      <td>1</td>\n",
       "      <td>0</td>\n",
       "      <td>0</td>\n",
       "      <td>0</td>\n",
       "      <td>1</td>\n",
       "      <td>1</td>\n",
       "      <td>0</td>\n",
       "      <td>...</td>\n",
       "      <td>0</td>\n",
       "      <td>0</td>\n",
       "      <td>0</td>\n",
       "      <td>0</td>\n",
       "      <td>0</td>\n",
       "      <td>0</td>\n",
       "      <td>0</td>\n",
       "      <td>0</td>\n",
       "      <td>0</td>\n",
       "      <td>1</td>\n",
       "    </tr>\n",
       "    <tr>\n",
       "      <th>1</th>\n",
       "      <td>80</td>\n",
       "      <td>0</td>\n",
       "      <td>0</td>\n",
       "      <td>1</td>\n",
       "      <td>0</td>\n",
       "      <td>0</td>\n",
       "      <td>0</td>\n",
       "      <td>1</td>\n",
       "      <td>0</td>\n",
       "      <td>0</td>\n",
       "      <td>...</td>\n",
       "      <td>0</td>\n",
       "      <td>0</td>\n",
       "      <td>0</td>\n",
       "      <td>0</td>\n",
       "      <td>0</td>\n",
       "      <td>0</td>\n",
       "      <td>0</td>\n",
       "      <td>0</td>\n",
       "      <td>0</td>\n",
       "      <td>1</td>\n",
       "    </tr>\n",
       "    <tr>\n",
       "      <th>2</th>\n",
       "      <td>80</td>\n",
       "      <td>0</td>\n",
       "      <td>0</td>\n",
       "      <td>1</td>\n",
       "      <td>1</td>\n",
       "      <td>0</td>\n",
       "      <td>0</td>\n",
       "      <td>1</td>\n",
       "      <td>1</td>\n",
       "      <td>0</td>\n",
       "      <td>...</td>\n",
       "      <td>0</td>\n",
       "      <td>0</td>\n",
       "      <td>0</td>\n",
       "      <td>0</td>\n",
       "      <td>0</td>\n",
       "      <td>0</td>\n",
       "      <td>0</td>\n",
       "      <td>0</td>\n",
       "      <td>0</td>\n",
       "      <td>1</td>\n",
       "    </tr>\n",
       "    <tr>\n",
       "      <th>3</th>\n",
       "      <td>80</td>\n",
       "      <td>0</td>\n",
       "      <td>0</td>\n",
       "      <td>1</td>\n",
       "      <td>1</td>\n",
       "      <td>0</td>\n",
       "      <td>0</td>\n",
       "      <td>1</td>\n",
       "      <td>0</td>\n",
       "      <td>0</td>\n",
       "      <td>...</td>\n",
       "      <td>0</td>\n",
       "      <td>0</td>\n",
       "      <td>0</td>\n",
       "      <td>0</td>\n",
       "      <td>0</td>\n",
       "      <td>0</td>\n",
       "      <td>0</td>\n",
       "      <td>0</td>\n",
       "      <td>0</td>\n",
       "      <td>1</td>\n",
       "    </tr>\n",
       "    <tr>\n",
       "      <th>4</th>\n",
       "      <td>80</td>\n",
       "      <td>1</td>\n",
       "      <td>0</td>\n",
       "      <td>1</td>\n",
       "      <td>1</td>\n",
       "      <td>0</td>\n",
       "      <td>0</td>\n",
       "      <td>1</td>\n",
       "      <td>0</td>\n",
       "      <td>0</td>\n",
       "      <td>...</td>\n",
       "      <td>0</td>\n",
       "      <td>0</td>\n",
       "      <td>0</td>\n",
       "      <td>0</td>\n",
       "      <td>0</td>\n",
       "      <td>0</td>\n",
       "      <td>0</td>\n",
       "      <td>0</td>\n",
       "      <td>0</td>\n",
       "      <td>1</td>\n",
       "    </tr>\n",
       "  </tbody>\n",
       "</table>\n",
       "<p>5 rows × 102 columns</p>\n",
       "</div>"
      ],
      "text/plain": [
       "   temperature  expiration  gender  has_children  toCoupon_GEQ15min  \\\n",
       "0           55           1       0             1                  0   \n",
       "1           80           0       0             1                  0   \n",
       "2           80           0       0             1                  1   \n",
       "3           80           0       0             1                  1   \n",
       "4           80           1       0             1                  1   \n",
       "\n",
       "   toCoupon_GEQ25min  direction_same  direction_opp  Accept(Y/N?)  dest_Home  \\\n",
       "0                  0               0              1             1          0   \n",
       "1                  0               0              1             0          0   \n",
       "2                  0               0              1             1          0   \n",
       "3                  0               0              1             0          0   \n",
       "4                  0               0              1             0          0   \n",
       "\n",
       "   ...  occupa_Management  occupa_Office & Administrative Support  \\\n",
       "0  ...                  0                                       0   \n",
       "1  ...                  0                                       0   \n",
       "2  ...                  0                                       0   \n",
       "3  ...                  0                                       0   \n",
       "4  ...                  0                                       0   \n",
       "\n",
       "   occupa_Personal Care & Service  occupa_Production Occupations  \\\n",
       "0                               0                              0   \n",
       "1                               0                              0   \n",
       "2                               0                              0   \n",
       "3                               0                              0   \n",
       "4                               0                              0   \n",
       "\n",
       "   occupa_Protective Service  occupa_Retired  occupa_Sales & Related  \\\n",
       "0                          0               0                       0   \n",
       "1                          0               0                       0   \n",
       "2                          0               0                       0   \n",
       "3                          0               0                       0   \n",
       "4                          0               0                       0   \n",
       "\n",
       "   occupa_Student  occupa_Transportation & Material Moving  occupa_Unemployed  \n",
       "0               0                                        0                  1  \n",
       "1               0                                        0                  1  \n",
       "2               0                                        0                  1  \n",
       "3               0                                        0                  1  \n",
       "4               0                                        0                  1  \n",
       "\n",
       "[5 rows x 102 columns]"
      ]
     },
     "execution_count": 44,
     "metadata": {},
     "output_type": "execute_result"
    }
   ],
   "source": [
    "df_final.head()"
   ]
  },
  {
   "cell_type": "markdown",
   "id": "5f77d329",
   "metadata": {},
   "source": [
    "Feature extration for machine learning classification."
   ]
  },
  {
   "cell_type": "code",
   "execution_count": 46,
   "id": "ebb052ed",
   "metadata": {},
   "outputs": [],
   "source": [
    "# Splitting features and target variables from dataframe.\n",
    "y = df_final['Accept(Y/N?)']\n",
    "X = df_final.drop(['Accept(Y/N?)'], axis = 1)"
   ]
  },
  {
   "cell_type": "code",
   "execution_count": 47,
   "id": "db318118",
   "metadata": {},
   "outputs": [
    {
     "data": {
      "text/plain": [
       "1    7210\n",
       "0    5474\n",
       "Name: Accept(Y/N?), dtype: int64"
      ]
     },
     "execution_count": 47,
     "metadata": {},
     "output_type": "execute_result"
    }
   ],
   "source": [
    "y.value_counts()"
   ]
  },
  {
   "cell_type": "code",
   "execution_count": 48,
   "id": "a1130cbe",
   "metadata": {},
   "outputs": [],
   "source": [
    "# Train and Test split\n",
    "X_train, X_test, y_train, y_test = train_test_split(X, y, test_size=0.20, random_state=42)"
   ]
  },
  {
   "cell_type": "markdown",
   "id": "af7315e9",
   "metadata": {},
   "source": [
    "Applying MinMax Scaling"
   ]
  },
  {
   "cell_type": "code",
   "execution_count": 49,
   "id": "4eb154f3",
   "metadata": {},
   "outputs": [],
   "source": [
    "# Applying scaling on feature variables\n",
    "scaler = MinMaxScaler()\n",
    "\n",
    "X_train = scaler.fit_transform(X_train)\n",
    "X_test = scaler.transform(X_test)"
   ]
  },
  {
   "cell_type": "markdown",
   "id": "19a205e7",
   "metadata": {},
   "source": [
    "Random Forest Baseline Model"
   ]
  },
  {
   "cell_type": "code",
   "execution_count": 50,
   "id": "f0017b15",
   "metadata": {},
   "outputs": [
    {
     "data": {
      "text/plain": [
       "RandomForestClassifier()"
      ]
     },
     "execution_count": 50,
     "metadata": {},
     "output_type": "execute_result"
    }
   ],
   "source": [
    "#Random Forest Classifier model with Train and Test split \n",
    "clf_base = RandomForestClassifier()\n",
    "\n",
    "#Training the model\n",
    "clf_base.fit(X_train,y_train)"
   ]
  },
  {
   "cell_type": "code",
   "execution_count": 51,
   "id": "b86dbbcf",
   "metadata": {},
   "outputs": [],
   "source": [
    "y_pred = clf_base.predict(X_test)\n",
    "#y_pred = cross_val_predict(clf_base, X_test, y_test, cv=cross_val_st) "
   ]
  },
  {
   "cell_type": "code",
   "execution_count": 52,
   "id": "7bb5c66e",
   "metadata": {},
   "outputs": [
    {
     "name": "stdout",
     "output_type": "stream",
     "text": [
      "RF Base line model accuracy: 74.97043752463539\n"
     ]
    }
   ],
   "source": [
    "# Random Forest baseline model accuracy\n",
    "print(\"RF Base line model accuracy:\", metrics.accuracy_score(y_test, y_pred)*100)"
   ]
  },
  {
   "cell_type": "code",
   "execution_count": 53,
   "id": "9f05fccb",
   "metadata": {},
   "outputs": [
    {
     "name": "stdout",
     "output_type": "stream",
     "text": [
      "              precision    recall  f1-score   support\n",
      "\n",
      "           0       0.75      0.65      0.70      1128\n",
      "           1       0.75      0.83      0.79      1409\n",
      "\n",
      "    accuracy                           0.75      2537\n",
      "   macro avg       0.75      0.74      0.74      2537\n",
      "weighted avg       0.75      0.75      0.75      2537\n",
      "\n"
     ]
    }
   ],
   "source": [
    "# Random Forest baseline classification report\n",
    "print(metrics.classification_report(y_test, y_pred))"
   ]
  },
  {
   "cell_type": "code",
   "execution_count": 57,
   "id": "c7a082d4",
   "metadata": {},
   "outputs": [
    {
     "name": "stdout",
     "output_type": "stream",
     "text": [
      "Accuracy from each of 10 folds:  [0.7572892  0.75886525 0.77777778 0.75650118 0.76182965 0.75709779\n",
      " 0.76182965 0.77129338 0.75473186 0.77050473]\n",
      "0.76 Mean accuracy for Random Forest base model with a standard deviation of 0.01\n"
     ]
    }
   ],
   "source": [
    "#Random Forest base line model - Mean and Std deviation with stratified cross validation.\n",
    "cross_val = StratifiedKFold(n_splits=10)\n",
    "\n",
    "X_s, y_s = shuffle(X, y)\n",
    "rf_cv_scores = cross_val_score(clf_base, X_s, y_s, cv = cross_val)\n",
    "\n",
    "print(\"Accuracy from each of 10 folds: \", rf_cv_scores)\n",
    "print(\"%0.2f Mean accuracy for Random Forest base model with a standard deviation of %0.2f\" % (rf_cv_scores.mean(), rf_cv_scores.std()))\n"
   ]
  },
  {
   "cell_type": "markdown",
   "id": "7a0f6794",
   "metadata": {},
   "source": [
    "Random Forest model feature importance prior to hyper parameter tuning"
   ]
  },
  {
   "cell_type": "code",
   "execution_count": 58,
   "id": "595e39ec",
   "metadata": {},
   "outputs": [
    {
     "data": {
      "text/plain": [
       "<AxesSubplot:>"
      ]
     },
     "execution_count": 58,
     "metadata": {},
     "output_type": "execute_result"
    },
    {
     "data": {
      "image/png": "[encoded data removed]",
      "text/plain": [
       "<Figure size 432x288 with 1 Axes>"
      ]
     },
     "metadata": {
      "needs_background": "light"
     },
     "output_type": "display_data"
    }
   ],
   "source": [
    "# Feature importance before hyper parameter tunning\n",
    "feat_importance = clf_base.feature_importances_\n",
    "\n",
    "feat_importances_pre_hyper = pd.Series(feat_importance, index = X.columns)\n",
    "feat_importances_pre_hyper.nlargest(20).plot(kind='barh')"
   ]
  },
  {
   "cell_type": "markdown",
   "id": "312deee7",
   "metadata": {},
   "source": [
    "Iteration 1: Random Forest model with hyper parameters"
   ]
  },
  {
   "cell_type": "code",
   "execution_count": 81,
   "id": "e0488c18",
   "metadata": {},
   "outputs": [
    {
     "data": {
      "text/plain": [
       "GridSearchCV(cv=StratifiedKFold(n_splits=10, random_state=None, shuffle=False),\n",
       "             estimator=RandomForestClassifier(),\n",
       "             param_grid={'criterion': ['entropy', 'gini'],\n",
       "                         'max_depth': [1, 2, 3, 4, 5, 6, 7],\n",
       "                         'max_features': ['auto', 'sqrt', 'log2'],\n",
       "                         'n_estimators': [10, 50, 100]})"
      ]
     },
     "execution_count": 81,
     "metadata": {},
     "output_type": "execute_result"
    }
   ],
   "source": [
    "# Iteration 1: Perform 10 fold grid search to tune hyperparameter of the random forest model.\n",
    "cross_val = StratifiedKFold(n_splits=10)\n",
    "#index_iterator = cross_val.split(X_train, y_train)\n",
    "\n",
    "clf_random = RandomForestClassifier()\n",
    "\n",
    "params_1 = { \n",
    "    'n_estimators': [10, 50, 100],\n",
    "    'max_features': ['auto','sqrt','log2'],\n",
    "    'max_depth' : list(range(1, 8)),\n",
    "    'criterion' :['entropy', 'gini'] \n",
    "}\n",
    "\n",
    "clf_rf = GridSearchCV(clf_random, params_1, cv = cross_val, verbose=0)\n",
    "\n",
    "#rf_model = clf_rf.fit(X,y)\n",
    "\n",
    "clf_rf.fit(X_train, y_train)"
   ]
  },
  {
   "cell_type": "code",
   "execution_count": 84,
   "id": "e4089db2",
   "metadata": {},
   "outputs": [
    {
     "name": "stdout",
     "output_type": "stream",
     "text": [
      "Best Parameter: {'criterion': 'entropy', 'max_depth': 7, 'max_features': 'sqrt', 'n_estimators': 50}\n"
     ]
    }
   ],
   "source": [
    "print('Best Parameter:', clf_rf.best_params_)"
   ]
  },
  {
   "cell_type": "code",
   "execution_count": 86,
   "id": "e9cedb44",
   "metadata": {},
   "outputs": [
    {
     "name": "stdout",
     "output_type": "stream",
     "text": [
      "Random Forest Model Hyper Param 1 accuracy from each of 10 folds:  [0.72182821 0.72655634 0.72182821 0.71710008 0.71135647 0.71845426\n",
      " 0.71135647 0.71135647 0.70741325 0.70504732]\n",
      "Random Forest Model Hyper Param 1 Mean Accuracy: 71.523%, Random Forest Model Hyper Param 1 Standard Deviation: (0.663%)\n"
     ]
    }
   ],
   "source": [
    "# Investigate the per fold accuracy, mean accuracy with deviation  for Random Forest Classifier model iteration 1 of hyper parameter tunning \n",
    "rfc_hyper_param_1 = RandomForestClassifier(max_depth=7, n_estimators=100, max_features='sqrt', criterion = 'entropy')\n",
    "cross_val = StratifiedKFold(n_splits=10)\n",
    "\n",
    "X_s, y_s = shuffle(X, y)\n",
    "cv_results_rf_hyp_1 = cross_val_score(rfc_hyper_param_1, X_s, y_s, cv = cross_val, scoring='accuracy')\n",
    "\n",
    "print(\"Random Forest Model Hyper Param 1 accuracy from each of 10 folds: \", cv_results_rf_hyp_1)\n",
    "print(\"Random Forest Model Hyper Param 1 Mean Accuracy: %.3f%%, Random Forest Model Hyper Param 1 Standard Deviation: (%.3f%%)\" % (cv_results_rf_hyp_1.mean()*100.0, cv_results_rf_hyp_1.std()*100.0))\n"
   ]
  },
  {
   "cell_type": "code",
   "execution_count": 87,
   "id": "23e00757",
   "metadata": {},
   "outputs": [
    {
     "name": "stdout",
     "output_type": "stream",
     "text": [
      "Accuracy of Random Forest Classifier model with Train and Test split in iteration 1 of hyper parameter tunning: 0.7138352384706346\n"
     ]
    }
   ],
   "source": [
    "#Training the Random Forest Classifier model with Train and Test split in iteration 1 of hyper parameter tunning \n",
    "rfc_hyper_param_1.fit(X_train,y_train)\n",
    "\n",
    "y_pred_hyp_1 = rfc_hyper_param_1.predict(X_test)\n",
    "\n",
    "# Model Accuracy\n",
    "print(\"Accuracy of Random Forest Classifier model with Train and Test split in iteration 1 of hyper parameter tunning:\", metrics.accuracy_score(y_test, y_pred_hyp_1))\n"
   ]
  },
  {
   "cell_type": "code",
   "execution_count": 88,
   "id": "d693adb5",
   "metadata": {},
   "outputs": [
    {
     "name": "stdout",
     "output_type": "stream",
     "text": [
      "Classification report of Random Forest Classifier model with Train and Test split in iteration 1 of hyper parameter tunning:               precision    recall  f1-score   support\n",
      "\n",
      "           0       0.76      0.52      0.62      1128\n",
      "           1       0.69      0.87      0.77      1409\n",
      "\n",
      "    accuracy                           0.71      2537\n",
      "   macro avg       0.73      0.69      0.70      2537\n",
      "weighted avg       0.72      0.71      0.70      2537\n",
      "\n"
     ]
    }
   ],
   "source": [
    "print(\"Classification report of Random Forest Classifier model with Train and Test split in iteration 1 of hyper parameter tunning:\", metrics.classification_report(y_test, y_pred_hyp_1))\n"
   ]
  },
  {
   "cell_type": "markdown",
   "id": "3be67bd1",
   "metadata": {},
   "source": [
    "Iteration 2: Random Forest model with hyper parameters"
   ]
  },
  {
   "cell_type": "code",
   "execution_count": 89,
   "id": "38df9a1d",
   "metadata": {},
   "outputs": [
    {
     "data": {
      "text/plain": [
       "GridSearchCV(cv=StratifiedKFold(n_splits=10, random_state=None, shuffle=False),\n",
       "             estimator=RandomForestClassifier(),\n",
       "             param_grid={'bootstrap': [True, False],\n",
       "                         'max_depth': [8, 9, 10, 11, 12, 13, 14, 15],\n",
       "                         'min_samples_split': [1, 3, 7],\n",
       "                         'n_estimators': [50, 150, 300]})"
      ]
     },
     "execution_count": 89,
     "metadata": {},
     "output_type": "execute_result"
    }
   ],
   "source": [
    "# Iteration 2: Perform 10 fold grid search to tune hyperparameter of the random forest model.\n",
    "cross_val = StratifiedKFold(n_splits=10)\n",
    "#index_iterator = cross_val.split(X_train, y_train)\n",
    "\n",
    "clf_random_2 = RandomForestClassifier()\n",
    "\n",
    "params_2 = {\n",
    "    'n_estimators': [50, 150, 300],\n",
    "    'max_depth' : list(range(8, 16)),\n",
    "    'min_samples_split' : [1, 3, 7],\n",
    "    'bootstrap' : [True, False]\n",
    "}\n",
    "\n",
    "clf_rf_2 = GridSearchCV(clf_random_2, params_2, cv = cross_val, verbose=0)\n",
    "\n",
    "#rf_model_2 = clf_rf_2.fit(X,y)\n",
    "\n",
    "clf_rf_2.fit(X_train, y_train)"
   ]
  },
  {
   "cell_type": "code",
   "execution_count": 90,
   "id": "fd2af670",
   "metadata": {},
   "outputs": [
    {
     "name": "stdout",
     "output_type": "stream",
     "text": [
      "Best Parameter RF Itr2: {'bootstrap': False, 'max_depth': 15, 'min_samples_split': 3, 'n_estimators': 150}\n"
     ]
    }
   ],
   "source": [
    "print('Best Parameter RF Itr2:', clf_rf_2.best_params_)"
   ]
  },
  {
   "cell_type": "code",
   "execution_count": 91,
   "id": "440a0bae",
   "metadata": {
    "scrolled": true
   },
   "outputs": [
    {
     "name": "stdout",
     "output_type": "stream",
     "text": [
      "Random Forest Model Hyper Param 2 accuracy from each of 10 folds:  [0.74862096 0.75334909 0.75256107 0.73522459 0.75315457 0.77523659\n",
      " 0.74763407 0.76735016 0.77602524 0.75236593]\n",
      "Random Forest Model Hyper Param 2 Mean Accuracy: 75.615%, Random Forest Model Hyper Param 2 Standard Deviation: (1.223%)\n"
     ]
    }
   ],
   "source": [
    "rfc_hyper_param_2 = RandomForestClassifier(max_depth=15, n_estimators=300, bootstrap='false', min_samples_split = 3)\n",
    "cross_val = StratifiedKFold(n_splits=10)\n",
    "\n",
    "X_s, y_s = shuffle(X, y)\n",
    "cv_results_rf_hyp_2 = cross_val_score(rfc_hyper_param_2, X_s, y_s, cv = cross_val, scoring='accuracy')\n",
    "\n",
    "print(\"Random Forest Model Hyper Param 2 accuracy from each of 10 folds: \", cv_results_rf_hyp_2)\n",
    "print(\"Random Forest Model Hyper Param 2 Mean Accuracy: %.3f%%, Random Forest Model Hyper Param 2 Standard Deviation: (%.3f%%)\" % (cv_results_rf_hyp_2.mean()*100.0, cv_results_rf_hyp_2.std()*100.0))\n"
   ]
  },
  {
   "cell_type": "code",
   "execution_count": 92,
   "id": "1c1a82cd",
   "metadata": {},
   "outputs": [
    {
     "name": "stdout",
     "output_type": "stream",
     "text": [
      "Accuracy of Random Forest Classifier model with Train and Test split in iteration 2 of hyper parameter tunning: 0.7394560504532913\n"
     ]
    }
   ],
   "source": [
    "#Training the Random Forest Classifier model with Train and Test split in iteration 2 of hyper parameter tunning \n",
    "rfc_hyper_param_2.fit(X_train,y_train)\n",
    "\n",
    "y_pred_hyp_2 = rfc_hyper_param_2.predict(X_test)\n",
    "\n",
    "# Model Accuracy\n",
    "print(\"Accuracy of Random Forest Classifier model with Train and Test split in iteration 2 of hyper parameter tunning:\", metrics.accuracy_score(y_test, y_pred_hyp_2))\n"
   ]
  },
  {
   "cell_type": "code",
   "execution_count": 93,
   "id": "6cf91a0b",
   "metadata": {},
   "outputs": [
    {
     "name": "stdout",
     "output_type": "stream",
     "text": [
      "Classification report of Random Forest Classifier model with Train and Test split in iteration 2 of hyper parameter tunning:               precision    recall  f1-score   support\n",
      "\n",
      "           0       0.76      0.61      0.68      1128\n",
      "           1       0.73      0.84      0.78      1409\n",
      "\n",
      "    accuracy                           0.74      2537\n",
      "   macro avg       0.74      0.73      0.73      2537\n",
      "weighted avg       0.74      0.74      0.73      2537\n",
      "\n"
     ]
    }
   ],
   "source": [
    "print(\"Classification report of Random Forest Classifier model with Train and Test split in iteration 2 of hyper parameter tunning:\", metrics.classification_report(y_test, y_pred_hyp_2))\n"
   ]
  },
  {
   "cell_type": "markdown",
   "id": "06636cfe",
   "metadata": {},
   "source": [
    "Iteration 3: Random Forest model with hyper parameters"
   ]
  },
  {
   "cell_type": "code",
   "execution_count": null,
   "id": "17e928d2",
   "metadata": {},
   "outputs": [],
   "source": [
    "# Iteration 3: Perform 10 fold grid search to tune hyperparameter of the random forest model.\n",
    "cross_val = StratifiedKFold(n_splits=10)\n",
    "#index_iterator = cross_val.split(X_train, y_train)\n",
    "\n",
    "params_3 = {\n",
    "    'n_estimators': [200, 500, 700],\n",
    "    'max_depth' : list(range(15, 30)),\n",
    "    'max_features': ['auto', 'sqrt', 'log2'],\n",
    "    'min_samples_leaf': [1, 3, 5],\n",
    "    'random_state': [101]\n",
    "}\n",
    "\n",
    "clf_random_3 = RandomForestClassifier()\n",
    "\n",
    "clf_rf_3 = GridSearchCV(clf_random_3, params_3, cv = cross_val, verbose=0)\n",
    "\n",
    "#rf_model_3 = clf_rf_3.fit(X,y)\n",
    "\n",
    "clf_rf_3.fit(X_train, y_train)\n",
    "GridSearchCV(cv=StratifiedKFold(n_splits=10, random_state=None, shuffle=False),\n",
    "             estimator=RandomForestClassifier(),\n",
    "             param_grid={'max_depth': [15, 16, 17, 18, 19, 20, 21, 22, 23, 24,\n",
    "                                       25, 26, 27, 28, 29],\n",
    "                         'max_features': ['auto', 'sqrt', 'log2'],\n",
    "                         'min_samples_leaf': [1, 3, 5],\n",
    "                         'n_estimators': [200, 500, 700],\n",
    "                         'random_state': [101]})\n"
   ]
  },
  {
   "cell_type": "code",
   "execution_count": 95,
   "id": "86138f55",
   "metadata": {},
   "outputs": [],
   "source": [
    "\n",
    "#print('Best Parameter RF Itr3:', clf_rf_3.best_params_)"
   ]
  },
  {
   "cell_type": "code",
   "execution_count": 97,
   "id": "83ebffbb",
   "metadata": {},
   "outputs": [
    {
     "name": "stdout",
     "output_type": "stream",
     "text": [
      "Random Forest Model Hyper Param 3 accuracy from each of 10 folds:  [0.7785658  0.75965327 0.77383767 0.77304965 0.76971609 0.77365931\n",
      " 0.77287066 0.75630915 0.77287066 0.76419558]\n",
      "Random Forest Model Hyper Param 3 Mean Accuracy: 76.947%, Random Forest Model Hyper Param 3 Standard Deviation: (0.673%)\n"
     ]
    }
   ],
   "source": [
    "rfc_hyper_param_3 = RandomForestClassifier(max_depth=23, n_estimators=700, max_features='auto', min_samples_leaf = 1, random_state = 101)\n",
    "cross_val = StratifiedKFold(n_splits=10)\n",
    "\n",
    "X_s, y_s = shuffle(X, y)\n",
    "cv_results_rf_hyp_3 = cross_val_score(rfc_hyper_param_3, X_s, y_s, cv = cross_val, scoring='accuracy')\n",
    "\n",
    "print(\"Random Forest Model Hyper Param 3 accuracy from each of 10 folds: \", cv_results_rf_hyp_3)\n",
    "print(\"Random Forest Model Hyper Param 3 Mean Accuracy: %.3f%%, Random Forest Model Hyper Param 3 Standard Deviation: (%.3f%%)\" % (cv_results_rf_hyp_3.mean()*100.0, cv_results_rf_hyp_3.std()*100.0))\n"
   ]
  },
  {
   "cell_type": "code",
   "execution_count": 98,
   "id": "90210317",
   "metadata": {},
   "outputs": [
    {
     "name": "stdout",
     "output_type": "stream",
     "text": [
      "Accuracy of Random Forest Classifier model with Train and Test split in iteration 3 of hyper parameter tunning: 0.7560110366574695\n"
     ]
    }
   ],
   "source": [
    "#Training the Random Forest Classifier model with Train and Test split in iteration 3 with hyper parameter tunning \n",
    "rfc_hyper_param_3.fit(X_train,y_train)\n",
    "\n",
    "y_pred_hyp_3 = rfc_hyper_param_3.predict(X_test)\n",
    "\n",
    "# Model Accuracy\n",
    "print(\"Accuracy of Random Forest Classifier model with Train and Test split in iteration 3 of hyper parameter tunning:\", metrics.accuracy_score(y_test, y_pred_hyp_3))\n"
   ]
  },
  {
   "cell_type": "code",
   "execution_count": 99,
   "id": "00fe3532",
   "metadata": {},
   "outputs": [
    {
     "name": "stdout",
     "output_type": "stream",
     "text": [
      "Classification report of Random Forest Classifier model with Train and Test split in iteration 3 of hyper parameter tunning:               precision    recall  f1-score   support\n",
      "\n",
      "           0       0.76      0.66      0.71      1128\n",
      "           1       0.75      0.84      0.79      1409\n",
      "\n",
      "    accuracy                           0.76      2537\n",
      "   macro avg       0.76      0.75      0.75      2537\n",
      "weighted avg       0.76      0.76      0.75      2537\n",
      "\n"
     ]
    }
   ],
   "source": [
    "print(\"Classification report of Random Forest Classifier model with Train and Test split in iteration 3 of hyper parameter tunning:\", metrics.classification_report(y_test, y_pred_hyp_3))\n"
   ]
  },
  {
   "cell_type": "markdown",
   "id": "cf520561",
   "metadata": {},
   "source": [
    "SVM Classifier\n",
    "SVM base model"
   ]
  },
  {
   "cell_type": "code",
   "execution_count": 59,
   "id": "d05e1061",
   "metadata": {},
   "outputs": [
    {
     "name": "stdout",
     "output_type": "stream",
     "text": [
      "              precision    recall  f1-score   support\n",
      "\n",
      "           0       0.76      0.64      0.69      1128\n",
      "           1       0.74      0.83      0.79      1409\n",
      "\n",
      "    accuracy                           0.75      2537\n",
      "   macro avg       0.75      0.74      0.74      2537\n",
      "weighted avg       0.75      0.75      0.74      2537\n",
      "\n"
     ]
    }
   ],
   "source": [
    "# train the model on train set\n",
    "model_base_SVM = SVC()\n",
    "model_base_SVM.fit(X_train, y_train)\n",
    " \n",
    "# print prediction results\n",
    "y_pred_base = model_base_SVM.predict(X_test)\n",
    "print(classification_report(y_test, y_pred_base))"
   ]
  },
  {
   "cell_type": "code",
   "execution_count": 60,
   "id": "fd1a1561",
   "metadata": {},
   "outputs": [
    {
     "name": "stdout",
     "output_type": "stream",
     "text": [
      "SVM accuracy for testing dataset without hyper parameter tuning is : 74.77%\n"
     ]
    }
   ],
   "source": [
    "test_accuracy_svm_base = accuracy_score(y_test,y_pred_base)*100\n",
    "\n",
    "print(\"SVM accuracy for testing dataset without hyper parameter tuning is : {:.2f}%\".format(test_accuracy_svm_base) )"
   ]
  },
  {
   "cell_type": "code",
   "execution_count": 61,
   "id": "c532bff4",
   "metadata": {},
   "outputs": [
    {
     "name": "stdout",
     "output_type": "stream",
     "text": [
      "SVM Model accuracy from each of 10 folds:  [0.56973995 0.57052797 0.57289204 0.56816391 0.57649842 0.57570978\n",
      " 0.57176656 0.57176656 0.57334385 0.56940063]\n",
      "SVM Model Mean Accuracy: 57.198%, SVM Model Standard Deviation: (0.256%)\n"
     ]
    }
   ],
   "source": [
    "#SVM model - Mean and Std deviation.\n",
    "cross_val = StratifiedKFold(n_splits=10)\n",
    "X_s, y_s = shuffle(X, y)\n",
    "scores = cross_val_score(model_base_SVM, X_s, y_s, cv = cross_val, scoring='accuracy')\n",
    "\n",
    "print(\"SVM Model accuracy from each of 10 folds: \", scores)\n",
    "print(\"SVM Model Mean Accuracy: %.3f%%, SVM Model Standard Deviation: (%.3f%%)\" % (scores.mean()*100.0, scores.std()*100.0))\n"
   ]
  },
  {
   "cell_type": "markdown",
   "id": "b9f3b69c",
   "metadata": {},
   "source": [
    "SVM model with hyper parameter tuning"
   ]
  },
  {
   "cell_type": "code",
   "execution_count": null,
   "id": "912975ea",
   "metadata": {
    "scrolled": true
   },
   "outputs": [
    {
     "name": "stdout",
     "output_type": "stream",
     "text": [
      "Fitting 10 folds for each of 27 candidates, totalling 270 fits\n",
      "[CV 1/10] END .......C=0.1, gamma=1, kernel=rbf;, score=0.571 total time=  22.8s\n",
      "[CV 2/10] END .......C=0.1, gamma=1, kernel=rbf;, score=0.571 total time=  20.8s\n",
      "[CV 3/10] END .......C=0.1, gamma=1, kernel=rbf;, score=0.571 total time=  20.9s\n",
      "[CV 4/10] END .......C=0.1, gamma=1, kernel=rbf;, score=0.571 total time=  19.5s\n",
      "[CV 5/10] END .......C=0.1, gamma=1, kernel=rbf;, score=0.571 total time=  19.2s\n",
      "[CV 6/10] END .......C=0.1, gamma=1, kernel=rbf;, score=0.571 total time=  19.3s\n",
      "[CV 7/10] END .......C=0.1, gamma=1, kernel=rbf;, score=0.572 total time=  19.5s\n",
      "[CV 8/10] END .......C=0.1, gamma=1, kernel=rbf;, score=0.572 total time=  18.9s\n",
      "[CV 9/10] END .......C=0.1, gamma=1, kernel=rbf;, score=0.572 total time=  19.2s\n",
      "[CV 10/10] END ......C=0.1, gamma=1, kernel=rbf;, score=0.572 total time=  19.1s\n",
      "[CV 1/10] END ......C=0.1, gamma=1, kernel=poly;, score=0.754 total time=  18.4s\n",
      "[CV 2/10] END ......C=0.1, gamma=1, kernel=poly;, score=0.704 total time=  18.0s\n",
      "[CV 3/10] END ......C=0.1, gamma=1, kernel=poly;, score=0.707 total time=  17.9s\n",
      "[CV 4/10] END ......C=0.1, gamma=1, kernel=poly;, score=0.732 total time=  17.9s\n",
      "[CV 5/10] END ......C=0.1, gamma=1, kernel=poly;, score=0.731 total time=31.0min\n",
      "[CV 6/10] END ......C=0.1, gamma=1, kernel=poly;, score=0.731 total time=  24.1s\n",
      "[CV 7/10] END ......C=0.1, gamma=1, kernel=poly;, score=0.735 total time=  21.8s\n",
      "[CV 8/10] END ......C=0.1, gamma=1, kernel=poly;, score=0.723 total time=  23.0s\n",
      "[CV 9/10] END ......C=0.1, gamma=1, kernel=poly;, score=0.711 total time=  19.1s\n",
      "[CV 10/10] END .....C=0.1, gamma=1, kernel=poly;, score=0.711 total time=  17.9s\n",
      "[CV 1/10] END ...C=0.1, gamma=1, kernel=sigmoid;, score=0.572 total time=  14.3s\n",
      "[CV 2/10] END ...C=0.1, gamma=1, kernel=sigmoid;, score=0.567 total time=  13.6s\n",
      "[CV 3/10] END ...C=0.1, gamma=1, kernel=sigmoid;, score=0.569 total time=  14.8s\n",
      "[CV 4/10] END ...C=0.1, gamma=1, kernel=sigmoid;, score=0.578 total time=  15.9s\n",
      "[CV 5/10] END ...C=0.1, gamma=1, kernel=sigmoid;, score=0.561 total time=  16.3s\n",
      "[CV 6/10] END ...C=0.1, gamma=1, kernel=sigmoid;, score=0.574 total time=  14.4s\n",
      "[CV 7/10] END ...C=0.1, gamma=1, kernel=sigmoid;, score=0.567 total time=  14.3s\n",
      "[CV 8/10] END ...C=0.1, gamma=1, kernel=sigmoid;, score=0.572 total time=  16.0s\n",
      "[CV 9/10] END ...C=0.1, gamma=1, kernel=sigmoid;, score=0.575 total time=  14.0s\n",
      "[CV 10/10] END ..C=0.1, gamma=1, kernel=sigmoid;, score=0.575 total time=  17.1s\n",
      "[CV 1/10] END .....C=0.1, gamma=0.1, kernel=rbf;, score=0.715 total time=  12.6s\n",
      "[CV 2/10] END .....C=0.1, gamma=0.1, kernel=rbf;, score=0.691 total time=  12.5s\n",
      "[CV 3/10] END .....C=0.1, gamma=0.1, kernel=rbf;, score=0.700 total time=  12.6s\n",
      "[CV 4/10] END .....C=0.1, gamma=0.1, kernel=rbf;, score=0.712 total time=  17.1s\n",
      "[CV 5/10] END .....C=0.1, gamma=0.1, kernel=rbf;, score=0.723 total time=  15.1s\n",
      "[CV 6/10] END .....C=0.1, gamma=0.1, kernel=rbf;, score=0.712 total time=  12.2s\n",
      "[CV 7/10] END .....C=0.1, gamma=0.1, kernel=rbf;, score=0.712 total time=18.2min\n",
      "[CV 8/10] END .....C=0.1, gamma=0.1, kernel=rbf;, score=0.685 total time=  20.7s\n",
      "[CV 9/10] END .....C=0.1, gamma=0.1, kernel=rbf;, score=0.703 total time=  17.6s\n",
      "[CV 10/10] END ....C=0.1, gamma=0.1, kernel=rbf;, score=0.732 total time= 1.1min\n",
      "[CV 1/10] END ....C=0.1, gamma=0.1, kernel=poly;, score=0.774 total time=   8.6s\n",
      "[CV 2/10] END ....C=0.1, gamma=0.1, kernel=poly;, score=0.727 total time=   8.9s\n",
      "[CV 3/10] END ....C=0.1, gamma=0.1, kernel=poly;, score=0.712 total time=   8.3s\n",
      "[CV 4/10] END ....C=0.1, gamma=0.1, kernel=poly;, score=0.732 total time=   8.7s\n",
      "[CV 5/10] END ....C=0.1, gamma=0.1, kernel=poly;, score=0.763 total time=   8.0s\n",
      "[CV 6/10] END ....C=0.1, gamma=0.1, kernel=poly;, score=0.766 total time=   7.9s\n",
      "[CV 7/10] END ....C=0.1, gamma=0.1, kernel=poly;, score=0.760 total time=   8.1s\n",
      "[CV 8/10] END ....C=0.1, gamma=0.1, kernel=poly;, score=0.733 total time=   8.1s\n",
      "[CV 9/10] END ....C=0.1, gamma=0.1, kernel=poly;, score=0.757 total time=   8.2s\n",
      "[CV 10/10] END ...C=0.1, gamma=0.1, kernel=poly;, score=0.753 total time=   7.8s\n",
      "[CV 1/10] END .C=0.1, gamma=0.1, kernel=sigmoid;, score=0.640 total time=  11.2s\n",
      "[CV 2/10] END .C=0.1, gamma=0.1, kernel=sigmoid;, score=0.632 total time=   9.9s\n",
      "[CV 3/10] END .C=0.1, gamma=0.1, kernel=sigmoid;, score=0.600 total time=   9.7s\n",
      "[CV 4/10] END .C=0.1, gamma=0.1, kernel=sigmoid;, score=0.637 total time=   9.7s\n",
      "[CV 5/10] END .C=0.1, gamma=0.1, kernel=sigmoid;, score=0.633 total time=   9.3s\n",
      "[CV 6/10] END .C=0.1, gamma=0.1, kernel=sigmoid;, score=0.634 total time=  10.3s\n",
      "[CV 7/10] END .C=0.1, gamma=0.1, kernel=sigmoid;, score=0.627 total time=   9.4s\n",
      "[CV 8/10] END .C=0.1, gamma=0.1, kernel=sigmoid;, score=0.609 total time=   9.8s\n",
      "[CV 9/10] END C=0.1, gamma=0.1, kernel=sigmoid;, score=0.635 total time=1131.3min\n",
      "[CV 10/10] END C=0.1, gamma=0.1, kernel=sigmoid;, score=0.643 total time=  14.7s\n",
      "[CV 1/10] END ....C=0.1, gamma=0.01, kernel=rbf;, score=0.678 total time=  12.0s\n"
     ]
    }
   ],
   "source": [
    "# defining parameter range\n",
    "param_grid_svm = {'C': [0.1, 10, 100],\n",
    "              'gamma': [1, 0.1, 0.01],\n",
    "              'kernel': ['rbf', 'poly', 'sigmoid']}\n",
    "\n",
    "cross_val = StratifiedKFold(n_splits=10)\n",
    " \n",
    "grid_svm = GridSearchCV(model_base_SVM, param_grid_svm, verbose = 3, cv = cross_val)\n",
    "  \n",
    "# fitting the model for grid search]][d_svm.fit(X_train, y_train)\n"
   ]
  },
  {
   "cell_type": "code",
   "execution_count": 66,
   "id": "474f0016",
   "metadata": {},
   "outputs": [
    {
     "name": "stdout",
     "output_type": "stream",
     "text": [
      "SVM Hyper Param Tuned Model accuracy from each of 10 folds:  [0.73128448 0.74231678 0.73680063 0.72970843 0.74684543 0.76025237\n",
      " 0.72397476 0.72870662 0.7444795  0.73028391]\n",
      "SVM Hyper Param Tuned Model Mean Accuracy: 73.747%, SVM Hyper Param Tuned Model Standard Deviation: (1.044%)\n"
     ]
    }
   ],
   "source": [
    "svm_clf_hyper_param = SVC(C=100, gamma=0.01, kernel='rbf')\n",
    "cross_val = StratifiedKFold(n_splits=10)\n",
    "\n",
    "X_s, y_s = shuffle(X, y)\n",
    "cv_results_svm_hyp = cross_val_score(svm_clf_hyper_param, X_s, y_s, cv = cross_val, scoring='accuracy')\n",
    "\n",
    "print(\"SVM Hyper Param Tuned Model accuracy from each of 10 folds: \", cv_results_svm_hyp)\n",
    "print(\"SVM Hyper Param Tuned Model Mean Accuracy: %.3f%%, SVM Hyper Param Tuned Model Standard Deviation: (%.3f%%)\" % (cv_results_svm_hyp.mean()*100.0, cv_results_svm_hyp.std()*100.0))\n"
   ]
  },
  {
   "cell_type": "code",
   "execution_count": 67,
   "id": "02be0d3d",
   "metadata": {},
   "outputs": [
    {
     "name": "stdout",
     "output_type": "stream",
     "text": [
      "Accuracy of SVM model with Train and Test split and hyper parameter tunning: 0.7465510445407962\n"
     ]
    }
   ],
   "source": [
    "#Training the SVM model with Train and Test split and hyper parameter tunning \n",
    "svm_clf_hyper_param.fit(X_train,y_train)\n",
    "\n",
    "y_pred_svm_hyp = svm_clf_hyper_param.predict(X_test)\n",
    "\n",
    "# Model Accuracy\n",
    "print(\"Accuracy of SVM model with Train and Test split and hyper parameter tunning:\", metrics.accuracy_score(y_test, y_pred_svm_hyp))\n"
   ]
  },
  {
   "cell_type": "code",
   "execution_count": 68,
   "id": "98cf4746",
   "metadata": {},
   "outputs": [
    {
     "name": "stdout",
     "output_type": "stream",
     "text": [
      "Classification report of SVM Classifier model with Train and Test split and hyper parameter tunning:               precision    recall  f1-score   support\n",
      "\n",
      "           0       0.74      0.66      0.70      1128\n",
      "           1       0.75      0.81      0.78      1409\n",
      "\n",
      "    accuracy                           0.75      2537\n",
      "   macro avg       0.75      0.74      0.74      2537\n",
      "weighted avg       0.75      0.75      0.74      2537\n",
      "\n"
     ]
    }
   ],
   "source": [
    "print(\"Classification report of SVM Classifier model with Train and Test split and hyper parameter tunning:\", metrics.classification_report(y_test, y_pred_svm_hyp))\n"
   ]
  },
  {
   "cell_type": "code",
   "execution_count": 69,
   "id": "93d40f17",
   "metadata": {},
   "outputs": [
    {
     "name": "stdout",
     "output_type": "stream",
     "text": [
      "SVM accuracy Grid Search CV for testing dataset with hyper parameter tuning is : 74.66%\n"
     ]
    }
   ],
   "source": [
    "test_accuracy_svm_grid = accuracy_score(y_test,y_pred_svm_hyp)*100\n",
    "\n",
    "print(\"SVM accuracy Grid Search CV for testing dataset with hyper parameter tuning is : {:.2f}%\".format(test_accuracy_svm_grid) )\n"
   ]
  },
  {
   "cell_type": "markdown",
   "id": "f1303d4a",
   "metadata": {},
   "source": [
    "# Logistic Regression Classifier"
   ]
  },
  {
   "cell_type": "markdown",
   "id": "e867209a",
   "metadata": {},
   "source": [
    "# LR base model"
   ]
  },
  {
   "cell_type": "code",
   "execution_count": 70,
   "id": "bb80b4ca",
   "metadata": {},
   "outputs": [
    {
     "data": {
      "text/plain": [
       "LogisticRegression()"
      ]
     },
     "execution_count": 70,
     "metadata": {},
     "output_type": "execute_result"
    }
   ],
   "source": [
    "lr_base_clf = LogisticRegression()\n",
    "\n",
    "lr_base_clf.fit(X_train, y_train)"
   ]
  },
  {
   "cell_type": "code",
   "execution_count": 71,
   "id": "b4b61220",
   "metadata": {},
   "outputs": [
    {
     "name": "stdout",
     "output_type": "stream",
     "text": [
      "LR base model accuracy: 68.54552621206149\n"
     ]
    }
   ],
   "source": [
    "# make predictions for test data\n",
    "y_pred_lr_base = lr_base_clf.predict(X_test)\n",
    "\n",
    "# LR base model accuracy\n",
    "print(\"LR base model accuracy:\", metrics.accuracy_score(y_test, y_pred_lr_base)*100)"
   ]
  },
  {
   "cell_type": "code",
   "execution_count": 72,
   "id": "98769387",
   "metadata": {},
   "outputs": [
    {
     "name": "stdout",
     "output_type": "stream",
     "text": [
      "              precision    recall  f1-score   support\n",
      "\n",
      "           0       0.67      0.57      0.62      1128\n",
      "           1       0.69      0.78      0.73      1409\n",
      "\n",
      "    accuracy                           0.69      2537\n",
      "   macro avg       0.68      0.67      0.67      2537\n",
      "weighted avg       0.68      0.69      0.68      2537\n",
      "\n"
     ]
    }
   ],
   "source": [
    "# Logistic Regression base model classification report\n",
    "print(classification_report(y_test, y_pred_lr_base))"
   ]
  },
  {
   "cell_type": "code",
   "execution_count": 73,
   "id": "4ce1f6bb",
   "metadata": {},
   "outputs": [
    {
     "name": "stdout",
     "output_type": "stream",
     "text": [
      "LR model accuracy from each of 10 folds:  [0.69739953 0.70449173 0.69030733 0.69503546 0.68769716 0.67823344\n",
      " 0.6884858  0.67113565 0.68611987 0.68611987]\n",
      "0.69 Mean accuracy for LR base model with a standard deviation of 0.01\n"
     ]
    }
   ],
   "source": [
    "# LR base model - Mean and Std deviation with stratified cross validation.\n",
    "cross_val = StratifiedKFold(n_splits=10)\n",
    "\n",
    "X_s, y_s = shuffle(X, y)\n",
    "lr_cv_scores = cross_val_score(lr_base_clf, X_s, y_s, cv = cross_val)\n",
    "\n",
    "print(\"LR model accuracy from each of 10 folds: \", lr_cv_scores)\n",
    "print(\"%0.2f Mean accuracy for LR base model with a standard deviation of %0.2f\" % (lr_cv_scores.mean(), lr_cv_scores.std()))"
   ]
  },
  {
   "cell_type": "markdown",
   "id": "63a0bd9e",
   "metadata": {},
   "source": [
    "# LR model with hyper parameter tuning"
   ]
  },
  {
   "cell_type": "code",
   "execution_count": 74,
   "id": "615e3a52",
   "metadata": {},
   "outputs": [
    {
     "data": {
      "text/plain": [
       "GridSearchCV(cv=StratifiedKFold(n_splits=10, random_state=None, shuffle=False),\n",
       "             estimator=LogisticRegression(),\n",
       "             param_grid={'C': array([1.00000000e-04, 2.63665090e-04, 6.95192796e-04, 1.83298071e-03,\n",
       "       4.83293024e-03, 1.27427499e-02, 3.35981829e-02, 8.85866790e-02,\n",
       "       2.33572147e-01, 6.15848211e-01, 1.62377674e+00, 4.28133240e+00,\n",
       "       1.12883789e+01, 2.97635144e+01, 7.84759970e+01, 2.06913808e+02,\n",
       "       5.45559478e+02, 1.43844989e+03, 3.79269019e+03, 1.00000000e+04]),\n",
       "                         'max_iter': [100, 1000, 2500],\n",
       "                         'penalty': ['l1', 'l2', 'elasticnet'],\n",
       "                         'solver': ['lbfgs', 'newton-cg', 'liblinear']},\n",
       "             scoring='accuracy')"
      ]
     },
     "execution_count": 74,
     "metadata": {},
     "output_type": "execute_result"
    }
   ],
   "source": [
    "# LR Model Grid Search CV with hyper parameters\n",
    "lr_grid = LogisticRegression()\n",
    "cross_val = StratifiedKFold(n_splits=10)\n",
    "\n",
    "# defining parameter range\n",
    "lr_grid_params = {\n",
    "    'penalty' : ['l1', 'l2', 'elasticnet'],\n",
    "    'solver' : ['lbfgs','newton-cg','liblinear'],\n",
    "    'C' : np.logspace(-4, 4, 20),\n",
    "    'max_iter' : [100, 1000, 2500]\n",
    "    }\n",
    "\n",
    "grid_lr_clf = GridSearchCV(lr_grid, lr_grid_params, cv=cross_val, scoring = 'accuracy')\n",
    "  \n",
    "# fitting the model for grid search\n",
    "grid_lr_clf.fit(X_train, y_train)"
   ]
  },
  {
   "cell_type": "code",
   "execution_count": 75,
   "id": "93563532",
   "metadata": {},
   "outputs": [
    {
     "name": "stdout",
     "output_type": "stream",
     "text": [
      "{'C': 0.23357214690901212, 'max_iter': 100, 'penalty': 'l1', 'solver': 'liblinear'}\n",
      "LogisticRegression(C=0.23357214690901212, penalty='l1', solver='liblinear')\n"
     ]
    }
   ],
   "source": [
    "# print best parameter after tuning\n",
    "print(grid_lr_clf.best_params_)\n",
    "\n",
    "# print model after hyper-parameter tuning\n",
    "print(grid_lr_clf.best_estimator_)"
   ]
  },
  {
   "cell_type": "code",
   "execution_count": 76,
   "id": "95b1dbff",
   "metadata": {},
   "outputs": [
    {
     "name": "stdout",
     "output_type": "stream",
     "text": [
      "LR Hyper Param Tuned Model accuracy from each of 10 folds:  [0.67612293 0.68321513 0.66981875 0.70921986 0.67665615 0.68454259\n",
      " 0.69400631 0.69400631 0.68454259 0.70189274]\n",
      "LR Hyper Param Tuned Model Mean Accuracy: 68.740%, LR Hyper Param Tuned Model Standard Deviation: (1.166%)\n"
     ]
    }
   ],
   "source": [
    "lr_best_params = LogisticRegression(C=0.23357214690901212, penalty='l1', solver='liblinear', max_iter=2500)\n",
    "cross_val = StratifiedKFold(n_splits=10)\n",
    "\n",
    "X_s, y_s = shuffle(X, y)\n",
    "cv_results_lr_hyp = cross_val_score(lr_best_params, X_s, y_s, cv = cross_val, scoring='accuracy')\n",
    "\n",
    "print(\"LR Hyper Param Tuned Model accuracy from each of 10 folds: \", cv_results_lr_hyp)\n",
    "print(\"LR Hyper Param Tuned Model Mean Accuracy: %.3f%%, LR Hyper Param Tuned Model Standard Deviation: (%.3f%%)\" % (cv_results_lr_hyp.mean()*100.0, cv_results_lr_hyp.std()*100.0))\n"
   ]
  },
  {
   "cell_type": "code",
   "execution_count": 77,
   "id": "29ececfe",
   "metadata": {},
   "outputs": [
    {
     "name": "stdout",
     "output_type": "stream",
     "text": [
      "Accuracy of LR model with Train and Test split and hyper parameter tunning: 0.6882144264879779\n"
     ]
    }
   ],
   "source": [
    "#Training the SVM model with Train and Test split and hyper parameter tunning \n",
    "lr_best_params.fit(X_train,y_train)\n",
    "\n",
    "y_pred_lr_hyp = lr_best_params.predict(X_test)\n",
    "\n",
    "# Model Accuracy\n",
    "print(\"Accuracy of LR model with Train and Test split and hyper parameter tunning:\", metrics.accuracy_score(y_test, y_pred_lr_hyp))\n"
   ]
  },
  {
   "cell_type": "code",
   "execution_count": 78,
   "id": "0db91d67",
   "metadata": {},
   "outputs": [
    {
     "name": "stdout",
     "output_type": "stream",
     "text": [
      "Classification report of LR Classifier model with Train and Test split and hyper parameter tunning:               precision    recall  f1-score   support\n",
      "\n",
      "           0       0.68      0.56      0.62      1128\n",
      "           1       0.69      0.79      0.74      1409\n",
      "\n",
      "    accuracy                           0.69      2537\n",
      "   macro avg       0.69      0.68      0.68      2537\n",
      "weighted avg       0.69      0.69      0.68      2537\n",
      "\n"
     ]
    }
   ],
   "source": [
    "print(\"Classification report of LR Classifier model with Train and Test split and hyper parameter tunning:\", metrics.classification_report(y_test, y_pred_lr_hyp))\n"
   ]
  },
  {
   "cell_type": "code",
   "execution_count": 79,
   "id": "d801bc78",
   "metadata": {},
   "outputs": [
    {
     "name": "stdout",
     "output_type": "stream",
     "text": [
      "LR model accuracy Grid Search CV for testing dataset with hyper parameter tuning is : 68.82%\n"
     ]
    }
   ],
   "source": [
    "test_accuracy_lr_grid = accuracy_score(y_test,y_pred_lr_hyp)*100\n",
    "\n",
    "print(\"LR model accuracy Grid Search CV for testing dataset with hyper parameter tuning is : {:.2f}%\".format(test_accuracy_lr_grid) )\n"
   ]
  },
  {
   "cell_type": "code",
   "execution_count": 9,
   "id": "655c31ef",
   "metadata": {},
   "outputs": [
    {
     "data": {
      "text/plain": [
       "'nohtyP'"
      ]
     },
     "execution_count": 9,
     "metadata": {},
     "output_type": "execute_result"
    }
   ],
   "source": [
    "a='Python'\n",
    "new_a=''\n",
    "for i in a :\n",
    "    new_a=i+new_a\n",
    "new_a\n",
    "    "
   ]
  },
  {
   "cell_type": "markdown",
   "id": "d5cdf4e0",
   "metadata": {},
   "source": [
    "# Result- Random Forest base line model accuracy is better than other classifiers and it is increased after Hyper Parameter Tuning"
   ]
  },
  {
   "cell_type": "code",
   "execution_count": 10,
   "id": "c000a3f3",
   "metadata": {},
   "outputs": [
    {
     "ename": "ValueError",
     "evalue": "invalid literal for int() with base 10: '10.0'",
     "output_type": "error",
     "traceback": [
      "\u001b[1;31m---------------------------------------------------------------------------\u001b[0m",
      "\u001b[1;31mValueError\u001b[0m                                Traceback (most recent call last)",
      "Input \u001b[1;32mIn [10]\u001b[0m, in \u001b[0;36m<cell line: 2>\u001b[1;34m()\u001b[0m\n\u001b[0;32m      1\u001b[0m a\u001b[38;5;241m=\u001b[39m\u001b[38;5;124m'\u001b[39m\u001b[38;5;124m10.0\u001b[39m\u001b[38;5;124m'\u001b[39m\n\u001b[1;32m----> 2\u001b[0m new_a\u001b[38;5;241m=\u001b[39m\u001b[38;5;28;43mint\u001b[39;49m\u001b[43m(\u001b[49m\u001b[43ma\u001b[49m\u001b[43m)\u001b[49m\n\u001b[0;32m      3\u001b[0m \u001b[38;5;28mprint\u001b[39m(new_a)\n",
      "\u001b[1;31mValueError\u001b[0m: invalid literal for int() with base 10: '10.0'"
     ]
    }
   ],
   "source": [
    "a='10.0'\n",
    "new_a=int(a)\n",
    "print(new_a)"
   ]
  },
  {
   "cell_type": "code",
   "execution_count": 11,
   "id": "3c45c699",
   "metadata": {},
   "outputs": [
    {
     "name": "stdout",
     "output_type": "stream",
     "text": [
      "10\n"
     ]
    }
   ],
   "source": [
    "a=10.0\n",
    "new_a=int(a)\n",
    "print(new_a)"
   ]
  },
  {
   "cell_type": "code",
   "execution_count": null,
   "id": "168da2f6",
   "metadata": {},
   "outputs": [],
   "source": []
  }
 ],
 "metadata": {
  "kernelspec": {
   "display_name": "Python 3 (ipykernel)",
   "language": "python",
   "name": "python3"
  },
  "language_info": {
   "codemirror_mode": {
    "name": "ipython",
    "version": 3
   },
   "file_extension": ".py",
   "mimetype": "text/x-python",
   "name": "python",
   "nbconvert_exporter": "python",
   "pygments_lexer": "ipython3",
   "version": "3.9.12"
  }
 },
 "nbformat": 4,
 "nbformat_minor": 5
}
